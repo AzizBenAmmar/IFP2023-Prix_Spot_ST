{
 "cells": [
  {
   "attachments": {},
   "cell_type": "markdown",
   "id": "f500b88c",
   "metadata": {},
   "source": [
    "# Time Series Forecasting With Neural Networks"
   ]
  },
  {
   "cell_type": "code",
   "execution_count": 1,
   "id": "670f6e54",
   "metadata": {},
   "outputs": [],
   "source": [
    "import sklearn\n",
    "import numpy as np\n",
    "import pandas as pd\n",
    "\n",
    "from tensorflow import keras\n",
    "\n",
    "from tensorflow.keras.optimizers import Adam\n",
    "from tensorflow.keras.models import Model\n",
    "from tensorflow.keras.layers import Bidirectional, Dropout, Dense, Input\n",
    "\n",
    "from tensorflow.keras.models import Model\n",
    "from tensorflow.keras.layers import LSTM, Dropout, Dense, Input\n",
    "\n",
    "from tensorflow.keras.layers import Input, GRU, Dropout, Dense\n",
    "from tensorflow.keras.models import Model\n",
    "from tensorflow.keras.optimizers import Adam\n",
    "\n",
    "import os\n",
    "import numpy as np\n",
    "import pandas as pd\n",
    "import tensorflow as tf\n",
    "import matplotlib.pyplot as plt\n",
    "import sklearn.preprocessing\n",
    "from sklearn.metrics import r2_score\n",
    "\n",
    "from keras.layers import Dense,Dropout,SimpleRNN,LSTM,GRU, Bidirectional\n",
    "from keras.models import Sequential\n",
    "from tensorflow import keras\n"
   ]
  },
  {
   "attachments": {},
   "cell_type": "markdown",
   "id": "bf6660f1",
   "metadata": {},
   "source": [
    "## Data Preprocessing"
   ]
  },
  {
   "cell_type": "code",
   "execution_count": 2,
   "id": "ff995a47",
   "metadata": {},
   "outputs": [
    {
     "data": {
      "text/html": [
       "<div>\n",
       "<style scoped>\n",
       "    .dataframe tbody tr th:only-of-type {\n",
       "        vertical-align: middle;\n",
       "    }\n",
       "\n",
       "    .dataframe tbody tr th {\n",
       "        vertical-align: top;\n",
       "    }\n",
       "\n",
       "    .dataframe thead th {\n",
       "        text-align: right;\n",
       "    }\n",
       "</style>\n",
       "<table border=\"1\" class=\"dataframe\">\n",
       "  <thead>\n",
       "    <tr style=\"text-align: right;\">\n",
       "      <th></th>\n",
       "      <th>Prix_spot</th>\n",
       "    </tr>\n",
       "    <tr>\n",
       "      <th>Date_full</th>\n",
       "      <th></th>\n",
       "    </tr>\n",
       "  </thead>\n",
       "  <tbody>\n",
       "    <tr>\n",
       "      <th>2017-10-01 23:30:00</th>\n",
       "      <td>25.77</td>\n",
       "    </tr>\n",
       "    <tr>\n",
       "      <th>2017-10-02 00:00:00</th>\n",
       "      <td>22.52</td>\n",
       "    </tr>\n",
       "    <tr>\n",
       "      <th>2017-10-02 00:30:00</th>\n",
       "      <td>22.52</td>\n",
       "    </tr>\n",
       "    <tr>\n",
       "      <th>2017-10-02 01:00:00</th>\n",
       "      <td>10.64</td>\n",
       "    </tr>\n",
       "    <tr>\n",
       "      <th>2017-10-02 01:30:00</th>\n",
       "      <td>10.64</td>\n",
       "    </tr>\n",
       "    <tr>\n",
       "      <th>...</th>\n",
       "      <td>...</td>\n",
       "    </tr>\n",
       "    <tr>\n",
       "      <th>2022-11-25 12:30:00</th>\n",
       "      <td>273.55</td>\n",
       "    </tr>\n",
       "    <tr>\n",
       "      <th>2022-11-25 13:00:00</th>\n",
       "      <td>290.12</td>\n",
       "    </tr>\n",
       "    <tr>\n",
       "      <th>2022-11-25 13:30:00</th>\n",
       "      <td>290.12</td>\n",
       "    </tr>\n",
       "    <tr>\n",
       "      <th>2022-11-25 14:00:00</th>\n",
       "      <td>310.42</td>\n",
       "    </tr>\n",
       "    <tr>\n",
       "      <th>2022-11-25 14:30:00</th>\n",
       "      <td>310.42</td>\n",
       "    </tr>\n",
       "  </tbody>\n",
       "</table>\n",
       "<p>90163 rows × 1 columns</p>\n",
       "</div>"
      ],
      "text/plain": [
       "                     Prix_spot\n",
       "Date_full                     \n",
       "2017-10-01 23:30:00      25.77\n",
       "2017-10-02 00:00:00      22.52\n",
       "2017-10-02 00:30:00      22.52\n",
       "2017-10-02 01:00:00      10.64\n",
       "2017-10-02 01:30:00      10.64\n",
       "...                        ...\n",
       "2022-11-25 12:30:00     273.55\n",
       "2022-11-25 13:00:00     290.12\n",
       "2022-11-25 13:30:00     290.12\n",
       "2022-11-25 14:00:00     310.42\n",
       "2022-11-25 14:30:00     310.42\n",
       "\n",
       "[90163 rows x 1 columns]"
      ]
     },
     "execution_count": 2,
     "metadata": {},
     "output_type": "execute_result"
    }
   ],
   "source": [
    "# load dataset\n",
    "\n",
    "path = ''\n",
    "price_df = pd.read_csv(path + 'prices_extract.csv')\n",
    "times_series_df = price_df[['Date_full', 'Prix_spot']].set_index('Date_full')\n",
    "times_series_df"
   ]
  },
  {
   "cell_type": "code",
   "execution_count": null,
   "id": "286b40ba",
   "metadata": {},
   "outputs": [],
   "source": [
    "# normalizing the entire DataFrame\n",
    "# times_series_df = (times_series_df-times_series_df.mean())/times_series_df.std()"
   ]
  },
  {
   "cell_type": "code",
   "execution_count": null,
   "id": "5c95c621",
   "metadata": {},
   "outputs": [],
   "source": [
    "\n",
    "# load dataset\n",
    "\n",
    "path = ''\n",
    "price_df = pd.read_csv(path + 'prices_extract.csv')\n",
    "times_series_df = price_df[['Date_full', 'Prix_spot']].set_index('Date_full')\n",
    "times_series_df\n",
    "max_price = times_series_df['Prix_spot'].abs().max()"
   ]
  },
  {
   "cell_type": "code",
   "execution_count": null,
   "id": "4e02e57e",
   "metadata": {},
   "outputs": [],
   "source": [
    "# apply normalization techniques\n",
    "for column in times_series_df.columns:\n",
    "    times_series_df[column] = times_series_df[column]  / times_series_df[column].abs().max()"
   ]
  },
  {
   "cell_type": "code",
   "execution_count": null,
   "id": "48d3e6e6",
   "metadata": {},
   "outputs": [],
   "source": [
    "# Last YEAR index\n",
    "price_df.index[price_df['Date_full'] == '2021-11-25 14:30:00'][0]"
   ]
  },
  {
   "cell_type": "code",
   "execution_count": null,
   "id": "5b4f9c84",
   "metadata": {},
   "outputs": [],
   "source": [
    "# First MONTH of Last year indexes\n",
    "price_df.index[price_df['Date_full'] == '2021-12-25 14:30:00'][0]"
   ]
  },
  {
   "cell_type": "code",
   "execution_count": null,
   "id": "bc229fb0",
   "metadata": {},
   "outputs": [],
   "source": [
    "# First DAY of Last year indexes\n",
    "price_df.index[price_df['Date_full'] == '2021-11-26 14:30:00'][0]"
   ]
  },
  {
   "cell_type": "code",
   "execution_count": null,
   "id": "b92f5c33",
   "metadata": {},
   "outputs": [],
   "source": [
    "max_price = times_series_df['Prix_spot'].max()"
   ]
  },
  {
   "cell_type": "code",
   "execution_count": null,
   "id": "09ac75e0",
   "metadata": {},
   "outputs": [],
   "source": [
    "times_series_df"
   ]
  },
  {
   "cell_type": "code",
   "execution_count": null,
   "id": "0eed4f90",
   "metadata": {},
   "outputs": [],
   "source": [
    "times_series_df['Prix_spot']"
   ]
  },
  {
   "cell_type": "code",
   "execution_count": null,
   "id": "20e3c962",
   "metadata": {},
   "outputs": [],
   "source": [
    "from sklearn import preprocessing\n",
    "scaler = sklearn.preprocessing.MinMaxScaler()\n",
    "# def normalize_data(df):\n",
    "#     scaler.fit(df.values.reshape(-1,1))\n",
    "#     df=scaler.transform(df.values.reshape(-1,1))\n",
    "#     return df\n",
    "\n",
    "scaler.fit(times_series_df['Prix_spot'].values.reshape(-1,1))\n",
    "times_series_df=scaler.transform(times_series_df['Prix_spot'].values.reshape(-1,1))\n",
    "\n",
    "\n",
    "# times_series_df = normalize_data(times_series_df['Prix_spot'])\n",
    "# times_series_df.shape"
   ]
  },
  {
   "attachments": {},
   "cell_type": "markdown",
   "id": "b5f0f87e",
   "metadata": {},
   "source": [
    "how many hours in a year = 8760 "
   ]
  },
  {
   "cell_type": "code",
   "execution_count": null,
   "id": "5d9d26f2",
   "metadata": {},
   "outputs": [],
   "source": [
    "\n",
    "# load dataset\n",
    "\n",
    "path = ''\n",
    "price_df = pd.read_csv(path + 'prices_extract.csv')\n",
    "times_series_df = price_df[['Date_full', 'Prix_spot']].set_index('Date_full')\n",
    "times_series_df\n",
    "max_price = times_series_df['Prix_spot'].abs().max()"
   ]
  },
  {
   "cell_type": "code",
   "execution_count": 3,
   "id": "6db69e35",
   "metadata": {},
   "outputs": [],
   "source": [
    "import plotly.graph_objects as go\n",
    "pd.options.plotting.backend = \"plotly\"\n",
    "\n",
    "import plotly.express as px\n",
    "\n",
    "def load_data(stock, seq_len):\n",
    "    X_train = []\n",
    "    y_train = []\n",
    "    for i in range(seq_len, len(stock)):\n",
    "        X_train.append(stock.iloc[i-seq_len : i, 0])\n",
    "        y_train.append(stock.iloc[i, 0])\n",
    "    \n",
    "    #1 last days are going to be used in test\n",
    "    X_test = X_train[72742:]             \n",
    "    y_test = y_train[72742:]\n",
    "    \n",
    "    #2 first 72742 days are going to be used in training\n",
    "    X_train = X_train[:72742]           \n",
    "    y_train = y_train[:72742]\n",
    "    \n",
    "    #3 convert to numpy array\n",
    "    X_train = np.array(X_train)\n",
    "    y_train = np.array(y_train)\n",
    "    \n",
    "    X_test = np.array(X_test)\n",
    "    y_test = np.array(y_test)\n",
    "    \n",
    "    #4 reshape data to input into RNN models\n",
    "    X_train = np.reshape(X_train, (72742 , seq_len, 1))\n",
    "    \n",
    "    X_test = np.reshape(X_test, (X_test.shape[0], seq_len, 1))\n",
    "    \n",
    "    return [X_train, y_train, X_test, y_test]\n",
    "\n",
    "def plot_predictions(model_name, test, predicted, title):\n",
    "    plt.figure(figsize=(16,4))\n",
    "    plt.plot(test, color='blue',label='Actual price')\n",
    "    plt.plot(predicted, alpha=0.7, color='orange',label='Predicted price')\n",
    "    plt.title(title)\n",
    "    plt.xlabel('Time')\n",
    "    plt.ylabel('Normalized price scale')\n",
    "    plt.legend()\n",
    "    plt.show()\n",
    "    plt.savefig(f'Predictions made by {model_name} model.png')\n",
    "\n",
    "\n",
    "mean = lambda x: x.mean().flatten() # multiply by the scaling factor if you used a scaler\n",
    "sd = lambda x: x.std().flatten() \n",
    "\n",
    "\n",
    "def conf_int(pred):\n",
    "    \"\"\"95% confidence interval\"\"\"\n",
    "    return np.array([mean(pred) - 2*sd(pred), mean(pred) + 2*sd(pred)])\n",
    "\n",
    "\n",
    "\n",
    "# def plot_predictions_with_CI(model_name, test, predicted, title):\n",
    "#     fig = go.Figure()\n",
    "#     band_size = (conf_int(predicted).max() - conf_int(predicted).min())/2\n",
    "#     plt.figure(figsize=(16,4))\n",
    "#     # plt.plot(test, color='blue',label='Actual price')\n",
    "#     # plt.plot(predicted.ravel(), alpha=0.7, color='orange',label='Predicted price')\n",
    "\n",
    "#     px.line(test) #, name='Actual price')\n",
    "#     px.line(predicted.ravel()) #, name='Predicted price')\n",
    "#     # plt.fill_between(np.linspace(0,len(predicted.ravel()),len(predicted.ravel())), (predicted.ravel()-band_size), (predicted.ravel()+band_size), color='b', alpha=.1)\n",
    "#     # plt.title(title)\n",
    "#     # plt.xlabel('Time')\n",
    "#     # plt.ylabel('Price Values')\n",
    "#     # plt.legend()\n",
    "#     # plt.show()\n",
    "#     # plt.savefig(f'Predictions with CI made by {model_name} model.png')\n",
    "\n",
    "\n",
    "import plotly.express as px\n",
    "import numpy as np\n",
    "\n",
    "def plot_predictions_with_CI(model_name, test, predicted, title):\n",
    "    band_size = (conf_int(predicted).max() - conf_int(predicted).min()) / 2\n",
    "    \n",
    "    fig = px.line()\n",
    "    fig.add_scatter(x=np.arange(len(test)), y=test, mode='lines', name='Actual price', line_color='blue')\n",
    "    fig.add_scatter(x=np.arange(len(predicted.ravel())), y=predicted.ravel(), mode='lines', name='Predicted price', line_color='orange', opacity=0.7)\n",
    "    \n",
    "    fig.update_layout(\n",
    "        title=title,\n",
    "        xaxis_title='Time',\n",
    "        yaxis_title='Price Values',\n",
    "        showlegend=True\n",
    "    )\n",
    "    \n",
    "    fig.update_layout(\n",
    "        shapes=[\n",
    "            dict(\n",
    "                type=\"rect\",\n",
    "                xref=\"x\",\n",
    "                yref=\"y\",\n",
    "                x0=0,\n",
    "                y0=predicted.ravel() - band_size,\n",
    "                x1=len(predicted.ravel()),\n",
    "                y1=predicted.ravel() + band_size,\n",
    "                fillcolor=\"blue\",\n",
    "                opacity=0.1,\n",
    "                layer=\"below\",\n",
    "                line_width=0,\n",
    "            )\n",
    "        ]\n",
    "    )\n",
    "    \n",
    "    fig.show()\n",
    "    fig.write_image(f'Predictions with CI made by {model_name} model.png')\n",
    "\n",
    "    "
   ]
  },
  {
   "cell_type": "code",
   "execution_count": null,
   "id": "4567d71c",
   "metadata": {},
   "outputs": [],
   "source": [
    "\n",
    "from tsmoothie.smoother import *\n",
    "from tsmoothie.bootstrap import BootstrappingWrapper\n",
    "import plotly.graph_objects as go\n",
    "import plotly.express as px\n",
    "\n",
    "import plotly.graph_objects as go\n",
    "pd.options.plotting.backend = \"plotly\"\n",
    "\n",
    "def smooth_bootstrap_CI(test_data, predictions_dataFrame, the_title=\"Predictions with CI made by simple CNN model\"):\n",
    "\n",
    "    ### SMOOTH PRED DATA ###\n",
    "\n",
    "    df_feats_sc = predictions_dataFrame\n",
    "\n",
    "    smoother = SpectralSmoother(smooth_fraction=0.18, pad_len=12)\n",
    "    smoother.smooth(df_feats_sc.T)\n",
    "\n",
    "\n",
    "    plt.figure(figsize=(16,12))\n",
    "\n",
    "    # for i,c in enumerate(cols):\n",
    "        \n",
    "        # plt.subplot(2,2,i+1)\n",
    "        \n",
    "    np.random.seed(33)\n",
    "    bts = BootstrappingWrapper(SpectralSmoother(smooth_fraction=0.18, \n",
    "                                                pad_len=12), \n",
    "\n",
    "                            bootstrap_type='mbb', \n",
    "\n",
    "                            block_length=48\n",
    "                            \n",
    "                            )\n",
    "    #smooth_fraction : float\n",
    "    \"\"\"Between 0 and 1. The smoothing strength. A lower value of\n",
    "    smooth_fraction will result in a smoother curve. It's the proportion\n",
    "    of frequencies used in the discrete Fourier Transform to smooth\n",
    "    the curve.\"\"\"\n",
    "    #pad_len : int\n",
    "    \"\"\"Greater than equal to 1. The length of the padding used at each\n",
    "    timeseries edge to center the series and obtain better smoothings.\"\"\"\n",
    "    #bootstrap_type : str\n",
    "    \"\"\"The type of algorithm used to compute the bootstrap.\n",
    "    Supported types are: none overlapping block bootstrap ('nbb'),\n",
    "    moving block bootstrap ('mbb'), circular block bootstrap ('cbb'),\n",
    "    stationary bootstrap ('sb').\"\"\"\n",
    "    #block_length : int\n",
    "    \"\"\"The shape of the blocks used to sample from the residuals of the\n",
    "    smoothing operation and used to bootstrap new samples.\n",
    "    Must be an integer in [3, timesteps).\"\"\"\n",
    "\n",
    "\n",
    "    bts_samples = bts.sample(df_feats_sc, n_samples=100)\n",
    "\n",
    "    pd.Series(smoother.smooth_data[0], index=np.array(df_feats_sc.index)).plot(c='green')\n",
    "    # plt.scatter(df_feats_sc.index, smoother.data, c='black', s=4, label='Pred price')\n",
    "    \n",
    "    # # plt.plot(test_data, color='red', label='Actual price')\n",
    "    # plt.fill_between(df_feats_sc.index, bts_samples.min(0), bts_samples.max(0), alpha=0.3, color='blue', label='CI')\n",
    "    # plt.title(the_title)\n",
    "    # plt.legend()\n",
    "\n",
    "    fig = go.Figure(data=go.Scatter(x=df_feats_sc.index, y=smoother.data))\n",
    "    # plt.scatter(df_feats_sc.index, smoother.data, c='black', s=4, label='Pred price')\n",
    "\n",
    "    # plt.plot(test_data, color='red', label='Actual price')\n",
    "    \n",
    "    # plt.fill_between(df_feats_sc.index, bts_samples.min(0), bts_samples.max(0), alpha=0.3, color='blue', label='CI')\n",
    "    fig.add_traces(go.Scatter(x=df_feats_sc.index, y = bts_samples,\n",
    "                              line = dict(color='rgba(0,0,0,0)'),\n",
    "                              fill='tonexty', \n",
    "                              fillcolor = 'rgba(0,250,0,0.4)' ))\n",
    "    plt.title(the_title)\n",
    "    plt.legend()\n",
    "    fig.show()"
   ]
  },
  {
   "cell_type": "code",
   "execution_count": null,
   "id": "c729794f",
   "metadata": {},
   "outputs": [],
   "source": [
    "\n",
    "\n",
    "# valid = x\n",
    "# sarima_preds = y\n",
    "\n",
    "# fig, ax = plt.subplots(figsize=(15,7))\n",
    "# # ax.plot(valid, valid['temp'], color='#fc7d0b', label='Valid')\n",
    "# ax.scatter(valid, sarima_preds)\n",
    "# ax.fill_between(valid, (valid-band_size), (valid+band_size), color='b', alpha=.1)\n",
    "# ax.set_title(\"Predictions w/ 95% Confidence\")\n",
    "# ax.set_xlabel('Date')\n",
    "# ax.set_ylabel('Temp - Celsius')\n",
    "# plt.show()\n",
    "\n"
   ]
  },
  {
   "cell_type": "code",
   "execution_count": null,
   "id": "c509ad1e",
   "metadata": {},
   "outputs": [],
   "source": [
    "times_series_df"
   ]
  },
  {
   "cell_type": "code",
   "execution_count": 4,
   "id": "13d89314",
   "metadata": {},
   "outputs": [],
   "source": [
    "df = pd.DataFrame(times_series_df, columns = ['Prix_spot'])"
   ]
  },
  {
   "attachments": {},
   "cell_type": "markdown",
   "id": "33900b31",
   "metadata": {},
   "source": [
    "## DataFrame Splitting"
   ]
  },
  {
   "cell_type": "code",
   "execution_count": 5,
   "id": "0c64bc38",
   "metadata": {},
   "outputs": [
    {
     "name": "stdout",
     "output_type": "stream",
     "text": [
      "X_train.shape =  (72742, 48, 1)\n",
      "y_train.shape =  (72742,)\n",
      "X_test.shape =  (17373, 48, 1)\n",
      "y_test.shape =  (17373,)\n"
     ]
    }
   ],
   "source": [
    "import numpy as np\n",
    "#create train, test data\n",
    "seq_len = 48 #choose sequence length\n",
    "\n",
    "X_train, y_train, X_test, y_test = load_data(df, seq_len)\n",
    "\n",
    "print('X_train.shape = ',X_train.shape)\n",
    "print('y_train.shape = ', y_train.shape)\n",
    "print('X_test.shape = ', X_test.shape)\n",
    "print('y_test.shape = ',y_test.shape)"
   ]
  },
  {
   "attachments": {},
   "cell_type": "markdown",
   "id": "40f2da2f",
   "metadata": {},
   "source": [
    "# Monte Carlo"
   ]
  },
  {
   "cell_type": "code",
   "execution_count": null,
   "id": "8195fbf6",
   "metadata": {},
   "outputs": [],
   "source": [
    "y_test"
   ]
  },
  {
   "cell_type": "code",
   "execution_count": null,
   "id": "b181eaaf",
   "metadata": {},
   "outputs": [],
   "source": [
    "# y_train_mc"
   ]
  },
  {
   "cell_type": "code",
   "execution_count": null,
   "id": "4f7c02fb",
   "metadata": {},
   "outputs": [],
   "source": [
    "max_price = times_series_df[column].abs().max()\n",
    "max_price"
   ]
  },
  {
   "cell_type": "code",
   "execution_count": null,
   "id": "7bb2b6c1",
   "metadata": {},
   "outputs": [],
   "source": [
    "# y_test_mc"
   ]
  },
  {
   "cell_type": "code",
   "execution_count": null,
   "id": "cc0bbb1f",
   "metadata": {},
   "outputs": [],
   "source": [
    "\n",
    "y_test_mc = pd.DataFrame(y_test[-48:], columns = ['Price'])#.multiply(max_price)\n",
    "# y_test_mc.multiply(max_price).plot()\n",
    "# y_test_max = scaler.inverse_transform(y_test_mc).max()\n",
    "# y_test_max"
   ]
  },
  {
   "cell_type": "code",
   "execution_count": null,
   "id": "729a47c8",
   "metadata": {},
   "outputs": [],
   "source": [
    "y_test_mc"
   ]
  },
  {
   "cell_type": "code",
   "execution_count": null,
   "id": "00900423",
   "metadata": {},
   "outputs": [],
   "source": [
    "#import necessary packages\n",
    "import numpy as np\n",
    "import math\n",
    "import matplotlib.pyplot as plt\n",
    "from scipy.stats import norm\n",
    "# from pandas_datareader import data\n",
    "#download Apple price data into DataFrame\n",
    "apple = pd.DataFrame(P[:48].flatten()) #data.DataReader('AAPL', 'yahoo',start='1/1/2000')\n",
    "#calculate the compound annual growth rate (CAGR) which \n",
    "#will give us our mean return input (mu) \n",
    "\n",
    "# days = (apple.index[-1] - apple.index[0]).days\n",
    "# cagr = ((((apple['Adj Close'][-1]) / apple['Adj Close'][1])) ** (365.0/days)) - 1\n",
    "\n",
    "# mu = apple.mean()['Price']/48\n",
    "mu = apple.mean()[0]/48\n",
    "print ('mu =',str(round(mu,4)))\n",
    "#create a series of percentage returns and calculate \n",
    "#the annual volatility of returns\n",
    "y_test_mc['rendements'] = apple.pct_change().fillna(0)\n",
    "# apple['rendements'] = apple.pct_change()\n",
    "# apple['rendements'] = apple['rendements'].fillna(0)\n",
    "vol = y_test_mc['rendements'].std()* math.sqrt(48)\n",
    "print (\"Daily Volatility =\",str(round(vol,4)*100)+\"%\")"
   ]
  },
  {
   "cell_type": "code",
   "execution_count": null,
   "id": "12082977",
   "metadata": {},
   "outputs": [],
   "source": [
    "mu"
   ]
  },
  {
   "cell_type": "code",
   "execution_count": null,
   "id": "40f9beba",
   "metadata": {},
   "outputs": [],
   "source": [
    "vol"
   ]
  },
  {
   "cell_type": "code",
   "execution_count": null,
   "id": "5c272237",
   "metadata": {},
   "outputs": [],
   "source": [
    "px.line(X_train[-1])"
   ]
  },
  {
   "cell_type": "code",
   "execution_count": null,
   "id": "c4d89c90",
   "metadata": {},
   "outputs": [],
   "source": [
    "vol/math.sqrt(T)"
   ]
  },
  {
   "cell_type": "code",
   "execution_count": null,
   "id": "0de3dfcf",
   "metadata": {},
   "outputs": [],
   "source": [
    "list(pd.DataFrame(cnn_predictions[:48])[0])* float(5)"
   ]
  },
  {
   "cell_type": "code",
   "execution_count": null,
   "id": "3f42bac8",
   "metadata": {},
   "outputs": [],
   "source": [
    "cnn_predictions[:48][0]"
   ]
  },
  {
   "cell_type": "code",
   "execution_count": null,
   "id": "4dc99658",
   "metadata": {},
   "outputs": [],
   "source": [
    "S = cnn_predictions[:48][0] #starting stock price (i.e. last available real stock price)\n",
    "T = 48 #Number of trading days\n",
    "mu = 0.2309 #Return\n",
    "vol = 0.4259 #Volatility\n",
    "#choose number of runs to simulate - I have chosen 1000\n",
    "for i in range(1000):\n",
    "    #create list of daily returns using random normal distribution\n",
    "    daily_returns=np.random.normal(mu/T,vol/math.sqrt(T),T)+1\n",
    "    \n",
    "    #set starting price and create price series generated by above random daily returns\n",
    "    price_list = [S]\n",
    "    \n",
    "    for x in daily_returns:\n",
    "        # print(x)\n",
    "        \n",
    "        price_list.append( price_list[-1] * x)\n",
    "    #plot data from each individual run which we will plot at the end\n",
    "    plt.plot(price_list)\n",
    "#show the plot of multiple price series created above\n",
    "plt.show()"
   ]
  },
  {
   "cell_type": "code",
   "execution_count": null,
   "id": "0818a460",
   "metadata": {},
   "outputs": [],
   "source": [
    "price_list[0]"
   ]
  },
  {
   "cell_type": "code",
   "execution_count": null,
   "id": "83cad38b",
   "metadata": {},
   "outputs": [],
   "source": [
    "#Define Variables\n",
    "P = cnn_predictions\n",
    "S = X_train[-1] #apple['Adj Close'][-1] #starting stock price (i.e. last available real stock price)\n",
    "T = 48 #Number of trading days\n",
    "mu = mu #Return\n",
    "vol = vol #Volatility\n",
    "#create list of daily returns using random normal distribution\n",
    "daily_returns=np.random.normal((mu/T),vol/math.sqrt(T),T)+1\n",
    "#set starting price and create price series generated by above random daily returns\n",
    "price_list = [S]\n",
    "for x in daily_returns:\n",
    "    # price_list.append(S[-1]*x)\n",
    "    price_list.append(P*x)\n",
    "    \n",
    "#Generate Plots - price series and histogram of daily returns\n",
    "plt.plot(X_train[-1])\n",
    "plt.show()\n",
    "plt.hist(daily_returns-1, 100) #Note that we run the line plot and histogram separately, not simultaneously.\n",
    "plt.show()"
   ]
  },
  {
   "cell_type": "code",
   "execution_count": null,
   "id": "c5be482e",
   "metadata": {},
   "outputs": [],
   "source": [
    "(np.random.normal(mu/T,vol/math.sqrt(T),T)+1) * S[-1]"
   ]
  },
  {
   "cell_type": "code",
   "execution_count": null,
   "id": "a5cacfd9",
   "metadata": {},
   "outputs": [],
   "source": [
    "P = pd.DataFrame(P[:48])\n",
    "# P[0]"
   ]
  },
  {
   "cell_type": "code",
   "execution_count": null,
   "id": "94a83dc7",
   "metadata": {},
   "outputs": [],
   "source": [
    "# P[0] * 20"
   ]
  },
  {
   "cell_type": "code",
   "execution_count": null,
   "id": "d73bcc5a",
   "metadata": {},
   "outputs": [],
   "source": []
  },
  {
   "cell_type": "code",
   "execution_count": null,
   "id": "26bd5069",
   "metadata": {},
   "outputs": [],
   "source": [
    "len(S)"
   ]
  },
  {
   "cell_type": "code",
   "execution_count": null,
   "id": "3b0e4942",
   "metadata": {},
   "outputs": [],
   "source": [
    "S = X_train[-1]\n",
    "S = list(S.flatten())\n",
    "S * np.random.normal(mu/T,vol/math.sqrt(T),T)+1"
   ]
  },
  {
   "cell_type": "code",
   "execution_count": null,
   "id": "854ead78",
   "metadata": {},
   "outputs": [],
   "source": [
    "import numpy as np\n",
    "import math\n",
    "import matplotlib.pyplot as plt\n",
    "from scipy.stats import norm\n",
    "#Define Variables\n",
    "# S = apple['Adj Close'][-1] #starting stock price (i.e. last available real stock price)\n",
    "# T = 252 #Number of trading days\n",
    "# mu = 0.2309 #Return\n",
    "# vol = 0.4259 #Volatility\n",
    "# price_list = []\n",
    "\n",
    "#choose number of runs to simulate - I have chosen 1000\n",
    "for i in range(1000):\n",
    "    #create list of daily returns using random normal distribution\n",
    "    # daily_returns= np.random.normal(mu/T,vol/math.sqrt(T),T)+1 #np.random.normal(mu,vol/math.sqrt(T),T)+1\n",
    "    \n",
    "    #set starting price and create price series generated by above random daily returns\n",
    "    price_list = S\n",
    "    \n",
    "    for x in daily_returns:\n",
    "        # P[0]*x\n",
    "        # price_list.append(P[0]*x)\n",
    "        price_list.append(S*x)\n",
    "        # price_list.append(new_sim)\n",
    "    #plot data from each individual run which we will plot at the end\n",
    "    plt.plot(price_list)\n",
    "    # plt.plot(P[0], linewidth=1)\n",
    "#show the plot of multiple price series created above\n",
    "plt.show()"
   ]
  },
  {
   "cell_type": "code",
   "execution_count": null,
   "id": "947f03f2",
   "metadata": {},
   "outputs": [],
   "source": [
    "len(price_list)"
   ]
  },
  {
   "cell_type": "code",
   "execution_count": null,
   "id": "bcdbe50f",
   "metadata": {},
   "outputs": [],
   "source": [
    "plt.plot(price_list)"
   ]
  },
  {
   "cell_type": "code",
   "execution_count": null,
   "id": "1e2285d8",
   "metadata": {},
   "outputs": [],
   "source": [
    "(np.random.normal(mu/T,vol/math.sqrt(T),T)+1 )[0] * P[:48]"
   ]
  },
  {
   "cell_type": "code",
   "execution_count": null,
   "id": "eed68fab",
   "metadata": {},
   "outputs": [],
   "source": [
    "max_test= y_test_mc.multiply(max_price).max()"
   ]
  },
  {
   "cell_type": "code",
   "execution_count": null,
   "id": "274fb9fe",
   "metadata": {},
   "outputs": [],
   "source": [
    "# y_test_mc['Price'].pct_change().head()"
   ]
  },
  {
   "cell_type": "code",
   "execution_count": null,
   "id": "e10cef3c",
   "metadata": {},
   "outputs": [],
   "source": [
    "first_row = y_test_mc.multiply(max_price)['Price'].max()\n",
    "first_row"
   ]
  },
  {
   "cell_type": "code",
   "execution_count": null,
   "id": "fc607024",
   "metadata": {},
   "outputs": [],
   "source": [
    "import pandas_montecarlo\n",
    "# y_test_mc = pd.DataFrame(y_test[-48:], columns = ['Price'])\n",
    "y_test_mc['Price'] = y_test_mc['Price'].pct_change().fillna(y_test_mc['Price'].min())\n",
    "mc = y_test_mc['Price'].montecarlo(sims=10000000, bust=-0.8, goal=1) #\n",
    "# mc = mc.data.multiply(max_price)"
   ]
  },
  {
   "cell_type": "code",
   "execution_count": null,
   "id": "456e7b1e",
   "metadata": {},
   "outputs": [],
   "source": [
    "# mc.data['original']"
   ]
  },
  {
   "cell_type": "code",
   "execution_count": null,
   "id": "c866f04b",
   "metadata": {},
   "outputs": [],
   "source": [
    "type(mc.data[mc.data.columns[1]].tolist())"
   ]
  },
  {
   "cell_type": "code",
   "execution_count": null,
   "id": "7230d5d1",
   "metadata": {},
   "outputs": [],
   "source": [
    "from difflib import SequenceMatcher\n",
    "\n",
    "def similar(a, b, th):\n",
    "    threshold = th\n",
    "    return (SequenceMatcher(None, a, b).ratio() > threshold)"
   ]
  },
  {
   "cell_type": "code",
   "execution_count": null,
   "id": "33eea5f1",
   "metadata": {},
   "outputs": [],
   "source": [
    "# import polars as pl\n",
    "# # from polars.lazy import *\n",
    "# import difflib\n",
    "\n",
    "# # Create an empty DataFrame to store the match counts\n",
    "# df_list = []\n",
    "\n",
    "# # Convert df1 to a Polars DataFrame\n",
    "# df1 = pl.from_pandas(mc.data)\n",
    "\n",
    "# # Iterate through df1 first\n",
    "# for cols1 in tqdm.tqdm(range(len(df1.columns))):\n",
    "\n",
    "#     # Convert df1 column value to a list\n",
    "#     x = df1[df1.columns[cols1]].to_list()\n",
    "\n",
    "#     # Iterate through df2 to match df1 column data\n",
    "#     for cols2 in range(len(df1.columns)):\n",
    "\n",
    "#         if cols1 != cols2:\n",
    "\n",
    "#             # Convert df2 column value to a list\n",
    "#             y = df1[df1.columns[cols2]].to_list()\n",
    "\n",
    "#             # Iterate and compare each value in df1[col1] with df2[col2]\n",
    "#             # i==j will result in True or False\n",
    "#             # sum() will count all True values (i.e., all matched values)\n",
    "\n",
    "#             # z = x - y\n",
    "#             # z = sum([abs(i-j) for i, j in zip(x, y)])\n",
    "\n",
    "#             if difflib.SequenceMatcher(None, x[:24], y[:24]).ratio() >= 0.9:\n",
    "\n",
    "#                 # Store match count, col 1, col 2 into the list\n",
    "#                 df_list.append((cols1, cols2))\n",
    "#                 print(f\"cols1={cols1}, cols2={cols2}\")\n",
    "\n",
    "# # Create a new Polars DataFrame from the df_list\n",
    "# result = pl.DataFrame(df_list, columns=[\"cols1\", \"cols2\"])\n"
   ]
  },
  {
   "cell_type": "code",
   "execution_count": null,
   "id": "629175c2",
   "metadata": {},
   "outputs": [],
   "source": [
    "#create a list to store all the match counts\n",
    "df_list = []\n",
    "import difflib\n",
    "import tqdm\n",
    "#iterate through df1 first\n",
    "for cols1 in tqdm.tqdm(range(int(len(mc.data.columns)))) :\n",
    "\n",
    "    #convert df1 column value to a list\n",
    "    x = mc.data[mc.data.columns[cols1]].tolist()\n",
    "\n",
    "    #iterate and compare each value in df1[col1] with df2[col2]\n",
    "    #i==j will result in True or False\n",
    "    #sum() will count all True values (i.e., all matched values)\n",
    "\n",
    "    # z = x - y\n",
    "    # z = sum([abs(i-j) for i, j in zip(x, y)])\n",
    "\n",
    "    if similar( x[:24], mc.data['original'][:24], 0.8) == True:\n",
    "\n",
    "\n",
    "        #store match count, col 1, col 2 into the lsit\n",
    "        df_list.append((cols1))\n",
    "        print(f\"cols1={cols1}\")\n",
    "\n",
    "        "
   ]
  },
  {
   "cell_type": "code",
   "execution_count": null,
   "id": "7c7e423c",
   "metadata": {},
   "outputs": [],
   "source": [
    "import difflib"
   ]
  },
  {
   "cell_type": "code",
   "execution_count": null,
   "id": "9c22c4fb",
   "metadata": {},
   "outputs": [],
   "source": [
    "similar( df_list[0], df_list[1], 0.1)"
   ]
  },
  {
   "cell_type": "code",
   "execution_count": null,
   "id": "4f97ff31",
   "metadata": {},
   "outputs": [],
   "source": [
    "for i in range(len(mc.data.columns)) :\n",
    "    mc.data[mc.data.columns[i]][0] = 0"
   ]
  },
  {
   "cell_type": "code",
   "execution_count": null,
   "id": "d4f754d0",
   "metadata": {},
   "outputs": [],
   "source": [
    "print(mc.data[mc.data.columns[2]][0])"
   ]
  },
  {
   "cell_type": "code",
   "execution_count": null,
   "id": "fa73a6f6",
   "metadata": {},
   "outputs": [],
   "source": [
    "print(scaler.inverse_transform(mc.data))"
   ]
  },
  {
   "cell_type": "code",
   "execution_count": null,
   "id": "7f7044a4",
   "metadata": {},
   "outputs": [],
   "source": [
    "mc.plot(title=\"Elect Price 1000 Normalized Cumulative Monte Carlo Simulations\")  # optional: , figsize=(x, y)\n"
   ]
  },
  {
   "cell_type": "code",
   "execution_count": null,
   "id": "2be4016e",
   "metadata": {},
   "outputs": [],
   "source": [
    "mc.plot(title=\"Elect Price 1000 Normalized Cumulative Monte Carlo Simulations\")  # optional: , figsize=(x, y)\n"
   ]
  },
  {
   "cell_type": "code",
   "execution_count": null,
   "id": "d84c42b1",
   "metadata": {},
   "outputs": [],
   "source": [
    "max_price"
   ]
  },
  {
   "cell_type": "code",
   "execution_count": null,
   "id": "48e18817",
   "metadata": {},
   "outputs": [],
   "source": [
    "# print(mc.data.pct_change(-1))"
   ]
  },
  {
   "cell_type": "code",
   "execution_count": null,
   "id": "ca75fbac",
   "metadata": {},
   "outputs": [],
   "source": [
    "# mc.data.pct_change(-1).plot()"
   ]
  },
  {
   "cell_type": "code",
   "execution_count": null,
   "id": "577dd6f7",
   "metadata": {},
   "outputs": [],
   "source": [
    "max_test['Price']"
   ]
  },
  {
   "cell_type": "code",
   "execution_count": null,
   "id": "f62d917f",
   "metadata": {},
   "outputs": [],
   "source": [
    "len(scaler.inverse_transform(mc.data.cumsum()))"
   ]
  },
  {
   "cell_type": "code",
   "execution_count": null,
   "id": "d237d9d3",
   "metadata": {},
   "outputs": [],
   "source": [
    "scaler.inverse_transform(mc.data.cumsum()).reshape(-1).shape"
   ]
  },
  {
   "cell_type": "code",
   "execution_count": null,
   "id": "f2b6dd9e",
   "metadata": {},
   "outputs": [],
   "source": [
    "import warnings\n",
    "warnings.filterwarnings(\"ignore\")\n",
    "fig = mc.data.multiply(y_test_max).add(300).plot(title=\"Elect Price 1000 Monte Carlo Simulations\")  # optional: , figsize=(x, y)\n",
    "fig.write_html(\"MonteCarlo.html\")\n",
    "fig.show()"
   ]
  },
  {
   "cell_type": "code",
   "execution_count": null,
   "id": "cda8fbc7",
   "metadata": {},
   "outputs": [],
   "source": [
    "# mc.data.multiply(max_price).add(first_row)"
   ]
  },
  {
   "cell_type": "code",
   "execution_count": null,
   "id": "f89c098d",
   "metadata": {},
   "outputs": [],
   "source": [
    "mc.data.add(300).plot(title=\"Elect Price Monte Carlo 100 Simulations\")  # optional: , figsize=(x, y)"
   ]
  },
  {
   "cell_type": "code",
   "execution_count": null,
   "id": "c9cfed28",
   "metadata": {},
   "outputs": [],
   "source": [
    "# mc.data.pct_change(-1).plot()"
   ]
  },
  {
   "attachments": {},
   "cell_type": "markdown",
   "id": "9e4b6a31",
   "metadata": {},
   "source": [
    "# CNN"
   ]
  },
  {
   "attachments": {},
   "cell_type": "markdown",
   "id": "588077ce",
   "metadata": {},
   "source": [
    "A convolutional model makes predictions based on a fixed-width history, which may lead to good performance since it can see how things are changing over time:\n",
    "\n",
    "![Convolutional models track alterations throughout time.](images/cnn.png)"
   ]
  },
  {
   "cell_type": "code",
   "execution_count": 6,
   "id": "37d65dc2",
   "metadata": {},
   "outputs": [
    {
     "name": "stdout",
     "output_type": "stream",
     "text": [
      "Model: \"sequential\"\n",
      "_________________________________________________________________\n",
      " Layer (type)                Output Shape              Param #   \n",
      "=================================================================\n",
      " conv1d (Conv1D)             (None, 46, 64)            256       \n",
      "                                                                 \n",
      " max_pooling1d (MaxPooling1D  (None, 23, 64)           0         \n",
      " )                                                               \n",
      "                                                                 \n",
      " flatten (Flatten)           (None, 1472)              0         \n",
      "                                                                 \n",
      " dense (Dense)               (None, 64)                94272     \n",
      "                                                                 \n",
      " dense_1 (Dense)             (None, 1)                 65        \n",
      "                                                                 \n",
      "=================================================================\n",
      "Total params: 94,593\n",
      "Trainable params: 94,593\n",
      "Non-trainable params: 0\n",
      "_________________________________________________________________\n"
     ]
    }
   ],
   "source": [
    "from tensorflow import keras\n",
    "\n",
    "# Define the model architecture\n",
    "cnn_model = keras.models.Sequential()\n",
    "cnn_model.add(keras.layers.Conv1D(filters=64, kernel_size=3, activation='relu', input_shape=(X_train.shape[1],1)))\n",
    "# cnn_model.add(keras.layers.Conv1D(filters=64, kernel_size=3, activation='relu'))\n",
    "cnn_model.add(keras.layers.MaxPooling1D(pool_size=2))\n",
    "cnn_model.add(keras.layers.Flatten())\n",
    "cnn_model.add(keras.layers.Dense(64, activation='relu'))\n",
    "cnn_model.add(keras.layers.Dense(1))\n",
    "\n",
    "cnn_model.summary()"
   ]
  },
  {
   "cell_type": "code",
   "execution_count": 7,
   "id": "6e2e3691",
   "metadata": {},
   "outputs": [
    {
     "name": "stdout",
     "output_type": "stream",
     "text": [
      "Epoch 1/100\n",
      "50/50 [==============================] - 3s 52ms/step - loss: 389.6259\n",
      "Epoch 2/100\n",
      "50/50 [==============================] - 3s 57ms/step - loss: 70.3920\n",
      "Epoch 3/100\n",
      "50/50 [==============================] - 3s 59ms/step - loss: 41.4275\n",
      "Epoch 4/100\n",
      "50/50 [==============================] - 3s 58ms/step - loss: 31.3686\n",
      "Epoch 5/100\n",
      "50/50 [==============================] - 3s 54ms/step - loss: 26.3046\n",
      "Epoch 6/100\n",
      "50/50 [==============================] - 3s 56ms/step - loss: 24.2956\n",
      "Epoch 7/100\n",
      "50/50 [==============================] - 3s 57ms/step - loss: 23.2154\n",
      "Epoch 8/100\n",
      "50/50 [==============================] - 3s 53ms/step - loss: 21.5166\n",
      "Epoch 9/100\n",
      "50/50 [==============================] - 3s 55ms/step - loss: 20.2528\n",
      "Epoch 10/100\n",
      "50/50 [==============================] - 2s 48ms/step - loss: 19.8521\n",
      "Epoch 11/100\n",
      "50/50 [==============================] - 2s 47ms/step - loss: 19.3497\n",
      "Epoch 12/100\n",
      "50/50 [==============================] - 2s 48ms/step - loss: 19.6058\n",
      "Epoch 13/100\n",
      "50/50 [==============================] - 2s 47ms/step - loss: 19.8349\n",
      "Epoch 14/100\n",
      "50/50 [==============================] - 2s 48ms/step - loss: 18.9615\n",
      "Epoch 15/100\n",
      "50/50 [==============================] - 2s 48ms/step - loss: 18.4222\n",
      "Epoch 16/100\n",
      "50/50 [==============================] - 2s 47ms/step - loss: 18.2665\n",
      "Epoch 17/100\n",
      "50/50 [==============================] - 2s 48ms/step - loss: 18.1272\n",
      "Epoch 18/100\n",
      "50/50 [==============================] - 2s 49ms/step - loss: 18.6526\n",
      "Epoch 19/100\n",
      "50/50 [==============================] - 2s 47ms/step - loss: 18.0613\n",
      "Epoch 20/100\n",
      "50/50 [==============================] - 2s 49ms/step - loss: 17.8959\n",
      "Epoch 21/100\n",
      "50/50 [==============================] - 2s 47ms/step - loss: 17.4150\n",
      "Epoch 22/100\n",
      "50/50 [==============================] - 2s 47ms/step - loss: 17.4503\n",
      "Epoch 23/100\n",
      "50/50 [==============================] - 2s 48ms/step - loss: 19.4509\n",
      "Epoch 24/100\n",
      "50/50 [==============================] - 2s 48ms/step - loss: 17.3105\n",
      "Epoch 25/100\n",
      "50/50 [==============================] - 2s 47ms/step - loss: 17.3333\n",
      "Epoch 26/100\n",
      "50/50 [==============================] - 2s 47ms/step - loss: 16.9697\n",
      "Epoch 27/100\n",
      "50/50 [==============================] - 2s 48ms/step - loss: 17.2644\n",
      "Epoch 28/100\n",
      "50/50 [==============================] - 2s 47ms/step - loss: 17.3112\n",
      "Epoch 29/100\n",
      "50/50 [==============================] - 2s 48ms/step - loss: 16.9787\n",
      "Epoch 30/100\n",
      "50/50 [==============================] - 2s 47ms/step - loss: 17.1456\n",
      "Epoch 31/100\n",
      "50/50 [==============================] - 2s 48ms/step - loss: 17.0685\n",
      "Epoch 32/100\n",
      "50/50 [==============================] - 2s 47ms/step - loss: 16.7000\n",
      "Epoch 33/100\n",
      "50/50 [==============================] - 2s 48ms/step - loss: 16.8440\n",
      "Epoch 34/100\n",
      "50/50 [==============================] - 2s 47ms/step - loss: 16.8692\n",
      "Epoch 35/100\n",
      "50/50 [==============================] - 2s 47ms/step - loss: 16.7069\n",
      "Epoch 36/100\n",
      "50/50 [==============================] - 2s 47ms/step - loss: 16.3697\n",
      "Epoch 37/100\n",
      "50/50 [==============================] - 2s 48ms/step - loss: 16.1706\n",
      "Epoch 38/100\n",
      "50/50 [==============================] - 2s 48ms/step - loss: 16.0119\n",
      "Epoch 39/100\n",
      "50/50 [==============================] - 2s 48ms/step - loss: 16.5392\n",
      "Epoch 40/100\n",
      "50/50 [==============================] - 2s 47ms/step - loss: 16.3854\n",
      "Epoch 41/100\n",
      "50/50 [==============================] - 2s 47ms/step - loss: 16.5970\n",
      "Epoch 42/100\n",
      "50/50 [==============================] - 2s 49ms/step - loss: 16.6761\n",
      "Epoch 43/100\n",
      "50/50 [==============================] - 2s 47ms/step - loss: 15.8233\n",
      "Epoch 44/100\n",
      "50/50 [==============================] - 2s 49ms/step - loss: 16.0369\n",
      "Epoch 45/100\n",
      "50/50 [==============================] - 2s 47ms/step - loss: 16.0081\n",
      "Epoch 46/100\n",
      "50/50 [==============================] - 2s 49ms/step - loss: 15.8395\n",
      "Epoch 47/100\n",
      "50/50 [==============================] - 2s 49ms/step - loss: 17.5033\n",
      "Epoch 48/100\n",
      "50/50 [==============================] - 2s 47ms/step - loss: 15.4246\n",
      "Epoch 49/100\n",
      "50/50 [==============================] - 2s 48ms/step - loss: 15.4279\n",
      "Epoch 50/100\n",
      "50/50 [==============================] - 2s 48ms/step - loss: 15.6530\n",
      "Epoch 51/100\n",
      "50/50 [==============================] - 3s 51ms/step - loss: 15.4580\n",
      "Epoch 52/100\n",
      "50/50 [==============================] - 2s 50ms/step - loss: 15.2354\n",
      "Epoch 53/100\n",
      "50/50 [==============================] - 3s 51ms/step - loss: 15.2351\n",
      "Epoch 54/100\n",
      "50/50 [==============================] - 2s 50ms/step - loss: 15.3334\n",
      "Epoch 55/100\n",
      "50/50 [==============================] - 2s 50ms/step - loss: 15.1213\n",
      "Epoch 56/100\n",
      "50/50 [==============================] - 3s 50ms/step - loss: 15.1142\n",
      "Epoch 57/100\n",
      "50/50 [==============================] - 3s 50ms/step - loss: 15.8166\n",
      "Epoch 58/100\n",
      "50/50 [==============================] - 3s 51ms/step - loss: 15.3870\n",
      "Epoch 59/100\n",
      "50/50 [==============================] - 2s 50ms/step - loss: 15.3398\n",
      "Epoch 60/100\n",
      "50/50 [==============================] - 3s 51ms/step - loss: 17.8125\n",
      "Epoch 61/100\n",
      "50/50 [==============================] - 2s 50ms/step - loss: 15.0900\n",
      "Epoch 62/100\n",
      "50/50 [==============================] - 2s 50ms/step - loss: 14.7717\n",
      "Epoch 63/100\n",
      "50/50 [==============================] - 2s 50ms/step - loss: 14.8945\n",
      "Epoch 64/100\n",
      "50/50 [==============================] - 3s 51ms/step - loss: 15.4634\n",
      "Epoch 65/100\n",
      "50/50 [==============================] - 3s 50ms/step - loss: 14.5836\n",
      "Epoch 66/100\n",
      "50/50 [==============================] - 3s 55ms/step - loss: 14.8056\n",
      "Epoch 67/100\n",
      "50/50 [==============================] - 3s 53ms/step - loss: 15.1090\n",
      "Epoch 68/100\n",
      "50/50 [==============================] - 3s 52ms/step - loss: 14.5833\n",
      "Epoch 69/100\n",
      "50/50 [==============================] - 2s 49ms/step - loss: 14.4008\n",
      "Epoch 70/100\n",
      "50/50 [==============================] - 3s 51ms/step - loss: 14.9357\n",
      "Epoch 71/100\n",
      "50/50 [==============================] - 3s 51ms/step - loss: 14.7648\n",
      "Epoch 72/100\n",
      "50/50 [==============================] - 3s 51ms/step - loss: 14.7630\n",
      "Epoch 73/100\n",
      "50/50 [==============================] - 3s 51ms/step - loss: 16.0135\n",
      "Epoch 74/100\n",
      "50/50 [==============================] - 3s 51ms/step - loss: 15.2058\n",
      "Epoch 75/100\n",
      "50/50 [==============================] - 3s 50ms/step - loss: 14.8783\n",
      "Epoch 76/100\n",
      "50/50 [==============================] - 2s 50ms/step - loss: 15.5125\n",
      "Epoch 77/100\n",
      "50/50 [==============================] - 2s 49ms/step - loss: 14.7968\n",
      "Epoch 78/100\n",
      "50/50 [==============================] - 3s 50ms/step - loss: 14.5117\n",
      "Epoch 79/100\n",
      "50/50 [==============================] - 3s 52ms/step - loss: 14.5432\n",
      "Epoch 80/100\n",
      "50/50 [==============================] - 3s 54ms/step - loss: 14.7101\n",
      "Epoch 81/100\n",
      "50/50 [==============================] - 2s 49ms/step - loss: 14.8641\n",
      "Epoch 82/100\n",
      "50/50 [==============================] - 3s 53ms/step - loss: 14.1680\n",
      "Epoch 83/100\n",
      "50/50 [==============================] - 3s 51ms/step - loss: 14.3241\n",
      "Epoch 84/100\n",
      "50/50 [==============================] - 3s 51ms/step - loss: 14.6807\n",
      "Epoch 85/100\n",
      "50/50 [==============================] - 3s 50ms/step - loss: 14.8139\n",
      "Epoch 86/100\n",
      "50/50 [==============================] - 3s 51ms/step - loss: 14.2924\n",
      "Epoch 87/100\n",
      "50/50 [==============================] - 3s 53ms/step - loss: 14.3260\n",
      "Epoch 88/100\n",
      "50/50 [==============================] - 3s 52ms/step - loss: 13.9897\n",
      "Epoch 89/100\n",
      "50/50 [==============================] - 3s 51ms/step - loss: 14.2974\n",
      "Epoch 90/100\n",
      "50/50 [==============================] - 3s 52ms/step - loss: 14.1117\n",
      "Epoch 91/100\n",
      "50/50 [==============================] - 2s 50ms/step - loss: 14.4545\n",
      "Epoch 92/100\n",
      "50/50 [==============================] - 3s 54ms/step - loss: 13.7343\n",
      "Epoch 93/100\n",
      "50/50 [==============================] - 3s 51ms/step - loss: 13.9731\n",
      "Epoch 94/100\n",
      "50/50 [==============================] - 3s 52ms/step - loss: 14.3592\n",
      "Epoch 95/100\n",
      "50/50 [==============================] - 3s 53ms/step - loss: 14.0544\n",
      "Epoch 96/100\n",
      "50/50 [==============================] - 2s 49ms/step - loss: 14.3363\n",
      "Epoch 97/100\n",
      "50/50 [==============================] - 2s 49ms/step - loss: 13.9273\n",
      "Epoch 98/100\n",
      "50/50 [==============================] - 2s 50ms/step - loss: 13.8335\n",
      "Epoch 99/100\n",
      "50/50 [==============================] - 2s 49ms/step - loss: 13.6488\n",
      "Epoch 100/100\n",
      "50/50 [==============================] - 2s 48ms/step - loss: 13.6817\n",
      "dict_keys(['loss'])\n"
     ]
    }
   ],
   "source": [
    "# Compile the model\n",
    "cnn_model.compile(optimizer='adam', loss='mse')\n",
    "\n",
    "# Train the model\n",
    "\n",
    "cnn_model.fit(X_train, y_train, epochs=100, batch_size=1460)\n",
    "cnn_model.history.history\n",
    "print(cnn_model.history.history.keys())"
   ]
  },
  {
   "cell_type": "code",
   "execution_count": 9,
   "id": "97d093db",
   "metadata": {},
   "outputs": [
    {
     "name": "stdout",
     "output_type": "stream",
     "text": [
      "543/543 [==============================] - 1s 2ms/step\n",
      "R2 Score of CNN model =  0.9393378467204985\n"
     ]
    }
   ],
   "source": [
    "from sklearn.metrics import r2_score\n",
    "import matplotlib.pyplot as plt\n",
    "cnn_predictions = cnn_model.predict(X_test)\n",
    "\n",
    "cnn_score = r2_score(y_test,cnn_predictions)\n",
    "print(\"R2 Score of CNN model = \", cnn_score)\n",
    "\n",
    "# plot_predictions_with_CI('CNN', y_test*max_price, cnn_predictions*max_price, \"Predictions with CI made by simple CNN model for 1 YEAR\")"
   ]
  },
  {
   "cell_type": "code",
   "execution_count": 23,
   "id": "be3eb032",
   "metadata": {},
   "outputs": [
    {
     "data": {
      "text/plain": [
       "array([[270.1106 ],\n",
       "       [284.95203],\n",
       "       [267.95935],\n",
       "       [289.19897],\n",
       "       [278.89087],\n",
       "       [299.13272],\n",
       "       [290.29797],\n",
       "       [298.69467],\n",
       "       [276.7927 ],\n",
       "       [256.48495],\n",
       "       [251.78783],\n",
       "       [240.06079],\n",
       "       [245.55171],\n",
       "       [245.82402],\n",
       "       [254.42494],\n",
       "       [246.30328],\n",
       "       [267.40482],\n",
       "       [270.4065 ],\n",
       "       [226.14796],\n",
       "       [213.44572],\n",
       "       [218.20116],\n",
       "       [209.22403],\n",
       "       [209.12727],\n",
       "       [192.95505],\n",
       "       [189.71599],\n",
       "       [192.66342],\n",
       "       [182.0085 ],\n",
       "       [193.45108],\n",
       "       [171.41898],\n",
       "       [194.69118],\n",
       "       [175.64568],\n",
       "       [199.4898 ],\n",
       "       [209.48654],\n",
       "       [234.24872],\n",
       "       [216.30052],\n",
       "       [223.97256],\n",
       "       [230.45016],\n",
       "       [239.46054],\n",
       "       [232.06992],\n",
       "       [239.67744],\n",
       "       [228.73688],\n",
       "       [226.16397],\n",
       "       [224.54204],\n",
       "       [220.89415],\n",
       "       [214.84494],\n",
       "       [212.00037],\n",
       "       [216.71193],\n",
       "       [223.86072]], dtype=float32)"
      ]
     },
     "execution_count": 23,
     "metadata": {},
     "output_type": "execute_result"
    }
   ],
   "source": [
    "cnn_predictions[:48]"
   ]
  },
  {
   "cell_type": "code",
   "execution_count": 124,
   "id": "0aa9c215",
   "metadata": {},
   "outputs": [
    {
     "name": "stderr",
     "output_type": "stream",
     "text": [
      "c:\\Users\\benammaa\\MyProjects\\Time_series_Prix_electricite\\time_series_3_10_fbProphet\\lib\\site-packages\\numpy\\core\\fromnumeric.py:3430: FutureWarning: In a future version, DataFrame.mean(axis=None) will return a scalar mean over the entire DataFrame. To retain the old behavior, use 'frame.mean(axis=0)' or just 'frame.mean()'\n",
      "  return mean(axis=axis, dtype=dtype, out=out, **kwargs)\n",
      "C:\\Users\\benammaa\\AppData\\Local\\Temp\\ipykernel_31100\\4110028424.py:6: DeprecationWarning: Use of keyword argument 'alpha' for method 'interval' is deprecated and wil be removed in SciPy 1.11.0. Use first positional argument or keyword argument 'confidence' instead.\n",
      "  our_min = st.t.interval(alpha=0.99,\n",
      "c:\\Users\\benammaa\\MyProjects\\Time_series_Prix_electricite\\time_series_3_10_fbProphet\\lib\\site-packages\\numpy\\core\\fromnumeric.py:3430: FutureWarning: In a future version, DataFrame.mean(axis=None) will return a scalar mean over the entire DataFrame. To retain the old behavior, use 'frame.mean(axis=0)' or just 'frame.mean()'\n",
      "  return mean(axis=axis, dtype=dtype, out=out, **kwargs)\n",
      "C:\\Users\\benammaa\\AppData\\Local\\Temp\\ipykernel_31100\\4110028424.py:12: DeprecationWarning: Use of keyword argument 'alpha' for method 'interval' is deprecated and wil be removed in SciPy 1.11.0. Use first positional argument or keyword argument 'confidence' instead.\n",
      "  our_max = st.t.interval(alpha=0.99,\n"
     ]
    }
   ],
   "source": [
    "import numpy as np\n",
    "import scipy.stats as st\n",
    "\n",
    "gfg_data = pd.DataFrame(X_train[-48:][-1])\n",
    "# create 99% confidence interval\n",
    "our_min = st.t.interval(alpha=0.99,\n",
    "              df=len(gfg_data)-1,\n",
    "              loc=np.mean(gfg_data), \n",
    "              scale=st.sem(gfg_data))[0]\n",
    "\n",
    "\n",
    "our_max = st.t.interval(alpha=0.99,\n",
    "              df=len(gfg_data)-1,\n",
    "              loc=np.mean(gfg_data), \n",
    "              scale=st.sem(gfg_data))[1]\n"
   ]
  },
  {
   "cell_type": "code",
   "execution_count": 125,
   "id": "82a21382",
   "metadata": {},
   "outputs": [
    {
     "data": {
      "text/plain": [
       "279.2644072602355"
      ]
     },
     "execution_count": 125,
     "metadata": {},
     "output_type": "execute_result"
    }
   ],
   "source": [
    "our_min[0]"
   ]
  },
  {
   "cell_type": "code",
   "execution_count": 126,
   "id": "89543d2f",
   "metadata": {},
   "outputs": [
    {
     "data": {
      "text/plain": [
       "313.88725940643116"
      ]
     },
     "execution_count": 126,
     "metadata": {},
     "output_type": "execute_result"
    }
   ],
   "source": [
    "our_max[0]"
   ]
  },
  {
   "cell_type": "code",
   "execution_count": 64,
   "id": "70d10860",
   "metadata": {},
   "outputs": [
    {
     "data": {
      "text/plain": [
       "array([310.42])"
      ]
     },
     "execution_count": 64,
     "metadata": {},
     "output_type": "execute_result"
    }
   ],
   "source": [
    "X_test[-1][-1]"
   ]
  },
  {
   "cell_type": "code",
   "execution_count": 66,
   "id": "5b09bcc1",
   "metadata": {},
   "outputs": [
    {
     "data": {
      "text/plain": [
       "numpy.ndarray"
      ]
     },
     "execution_count": 66,
     "metadata": {},
     "output_type": "execute_result"
    }
   ],
   "source": [
    "type(cnn_predictions[:4])"
   ]
  },
  {
   "cell_type": "code",
   "execution_count": 83,
   "id": "bb21ee93",
   "metadata": {},
   "outputs": [
    {
     "data": {
      "text/plain": [
       "(4,)"
      ]
     },
     "execution_count": 83,
     "metadata": {},
     "output_type": "execute_result"
    }
   ],
   "source": [
    "cnn_predictions[:4].flatten().shape"
   ]
  },
  {
   "cell_type": "code",
   "execution_count": null,
   "id": "5a6cba7d",
   "metadata": {},
   "outputs": [],
   "source": [
    "type(X_test[-1][-1])"
   ]
  },
  {
   "cell_type": "code",
   "execution_count": 116,
   "id": "6d05f11e",
   "metadata": {},
   "outputs": [
    {
     "data": {
      "text/plain": [
       "49"
      ]
     },
     "execution_count": 116,
     "metadata": {},
     "output_type": "execute_result"
    }
   ],
   "source": [
    "len(np.concatenate((X_train[-1][-1] , cnn_predictions[:48].flatten()), axis=0))"
   ]
  },
  {
   "cell_type": "code",
   "execution_count": 32,
   "id": "ad166c93",
   "metadata": {},
   "outputs": [
    {
     "data": {
      "text/plain": [
       "array([270.1106], dtype=float32)"
      ]
     },
     "execution_count": 32,
     "metadata": {},
     "output_type": "execute_result"
    }
   ],
   "source": [
    "cnn_predictions[:48][0]"
   ]
  },
  {
   "cell_type": "code",
   "execution_count": 105,
   "id": "da7a184f",
   "metadata": {},
   "outputs": [
    {
     "data": {
      "text/plain": [
       "[323.39,\n",
       " 328.77,\n",
       " 328.77,\n",
       " 347.16,\n",
       " 347.16,\n",
       " 375.0,\n",
       " 375.0,\n",
       " 360.65,\n",
       " 360.65,\n",
       " 330.0,\n",
       " 330.0,\n",
       " 285.37,\n",
       " 285.37,\n",
       " 262.87,\n",
       " 262.87,\n",
       " 294.04,\n",
       " 294.04,\n",
       " 252.87,\n",
       " 252.87,\n",
       " 244.58,\n",
       " 244.58,\n",
       " 245.82,\n",
       " 245.82,\n",
       " 220.93,\n",
       " 220.93,\n",
       " 220.28,\n",
       " 220.28,\n",
       " 249.48,\n",
       " 249.48,\n",
       " 261.82,\n",
       " 261.82,\n",
       " 320.0,\n",
       " 320.0,\n",
       " 345.0,\n",
       " 345.0,\n",
       " 346.37,\n",
       " 346.37,\n",
       " 320.5,\n",
       " 320.5,\n",
       " 324.65,\n",
       " 324.65,\n",
       " 307.17,\n",
       " 307.17,\n",
       " 281.1,\n",
       " 281.1,\n",
       " 270.0,\n",
       " 270.0,\n",
       " 272.8]"
      ]
     },
     "execution_count": 105,
     "metadata": {},
     "output_type": "execute_result"
    }
   ],
   "source": [
    "list(i[0] for i in X_test[0])"
   ]
  },
  {
   "cell_type": "code",
   "execution_count": 41,
   "id": "988e4752",
   "metadata": {},
   "outputs": [
    {
     "name": "stdout",
     "output_type": "stream",
     "text": [
      "[6153.65367881]\n",
      "[1101.74561311]\n",
      "[1230.73073576]\n"
     ]
    }
   ],
   "source": [
    "for item in [S, our_min, our_max] :\n",
    "    S = item * 5\n",
    "    print(S)"
   ]
  },
  {
   "cell_type": "code",
   "execution_count": 121,
   "id": "c6f8a2b3",
   "metadata": {},
   "outputs": [
    {
     "data": {
      "text/plain": [
       "array([270.1106], dtype=float32)"
      ]
     },
     "execution_count": 121,
     "metadata": {},
     "output_type": "execute_result"
    }
   ],
   "source": [
    "cnn_predictions[:49][0]"
   ]
  },
  {
   "cell_type": "code",
   "execution_count": 122,
   "id": "6514ff4a",
   "metadata": {},
   "outputs": [
    {
     "data": {
      "text/plain": [
       "array([246.14614715])"
      ]
     },
     "execution_count": 122,
     "metadata": {},
     "output_type": "execute_result"
    }
   ],
   "source": [
    "our_max"
   ]
  },
  {
   "cell_type": "code",
   "execution_count": 128,
   "id": "ce80e44c",
   "metadata": {},
   "outputs": [
    {
     "name": "stderr",
     "output_type": "stream",
     "text": [
      "100%|██████████| 10000/10000 [00:38<00:00, 261.20it/s]\n"
     ]
    },
    {
     "data": {
      "image/png": "[encoded data removed]",
      "text/plain": [
       "<Figure size 640x480 with 1 Axes>"
      ]
     },
     "metadata": {},
     "output_type": "display_data"
    }
   ],
   "source": [
    "import math\n",
    "import tqdm\n",
    "S = our_max# X_train[-1][-1] #starting stock price (i.e. last available real stock price)\n",
    "T = 48 #Number of trading days\n",
    "mu = 0.2309 #Return\n",
    "vol = 0.4259 #Volatility\n",
    "final_price_list = list()\n",
    "#choose number of runs to simulate - I have chosen 1000\n",
    "for i in tqdm.tqdm(range(10000)):\n",
    "    #create list of daily returns using random normal distribution\n",
    "    daily_returns=np.random.normal(mu/T,vol/math.sqrt(T),T)+1\n",
    "    \n",
    "    #set starting price and create price series generated by above random daily returns\n",
    "    price_list = [S]\n",
    "    \n",
    "    for x in daily_returns:\n",
    "        # print(x)\n",
    "        \n",
    "        price_list.append( price_list[-1] * x)\n",
    "\n",
    "        if similar(price_list[-1], list(i[0] for i in X_test[0]) , 0.9) == True :\n",
    "            print(\"GOAAAAAAAAAAAAAAAAAAAAAAAAAAAAAAAAAAAAAAAAAAAAAAAAAAAAAAAAAAAAAAAAAAAAL NIGGA !!\")\n",
    "\n",
    "\n",
    "\n",
    "        \n",
    "    #plot data from each individual run which we will plot at the end\n",
    "    # final_price_list = [*price_list, *price_list2, *price_list3]\n",
    "    # plt.plot(price_list)\n",
    "    plt.plot(price_list)\n",
    "    # final_price_list = price_list.extend(price_list2)\n",
    "    # final_price_list = final_price_list.extend(price_list3) \n",
    "    plt.plot(X_test[:48][0], linewidth=3, color='black')\n",
    "    plt.plot(cnn_predictions[:49], linewidth=3, color='magenta')\n",
    "    final_price_list.append(price_list)\n",
    "    \n",
    "#show the plot of multiple price series created above\n",
    "plt.show()"
   ]
  },
  {
   "cell_type": "code",
   "execution_count": 93,
   "id": "ba54cfe2",
   "metadata": {},
   "outputs": [],
   "source": [
    "from difflib import SequenceMatcher\n",
    "\n",
    "def similar(a, b, th):\n",
    "    threshold = th\n",
    "    return (SequenceMatcher(None, a, b).ratio() > threshold)"
   ]
  },
  {
   "cell_type": "code",
   "execution_count": 95,
   "id": "4b5203fd",
   "metadata": {},
   "outputs": [
    {
     "data": {
      "text/plain": [
       "49"
      ]
     },
     "execution_count": 95,
     "metadata": {},
     "output_type": "execute_result"
    }
   ],
   "source": [
    "len(price_list)"
   ]
  },
  {
   "cell_type": "code",
   "execution_count": 102,
   "id": "8b8d0f82",
   "metadata": {},
   "outputs": [
    {
     "data": {
      "text/plain": [
       "[323.39,\n",
       " 313.30188774701736,\n",
       " 335.5935180040936,\n",
       " 348.3388465448975,\n",
       " 391.0458159273804,\n",
       " 383.9129249514291,\n",
       " 416.61455949348715,\n",
       " 417.79651299661043,\n",
       " 427.4196561597731,\n",
       " 452.06638752717026,\n",
       " 449.16658732181276,\n",
       " 446.33100198570776,\n",
       " 465.16883728445123,\n",
       " 503.17145819571584,\n",
       " 500.7519907568054,\n",
       " 448.67728531329715,\n",
       " 461.9171262482171,\n",
       " 469.6117511331009,\n",
       " 493.3080350766069,\n",
       " 478.57976806089056,\n",
       " 472.3518997668542,\n",
       " 464.4265182543204,\n",
       " 471.56462436330315,\n",
       " 513.2040761602003,\n",
       " 528.7864617808181,\n",
       " 482.5758543825909,\n",
       " 458.3229919549699,\n",
       " 483.5426315298182,\n",
       " 535.903101815738,\n",
       " 539.4484444701101,\n",
       " 505.02328077420793,\n",
       " 527.7565041930937,\n",
       " 565.7249207473619,\n",
       " 517.4021991321129,\n",
       " 466.2219518999115,\n",
       " 448.14703559980916,\n",
       " 437.2901905181141,\n",
       " 416.8836034320029,\n",
       " 373.7889608631707,\n",
       " 345.66251424665444,\n",
       " 376.3360972015644,\n",
       " 372.7069973237125,\n",
       " 392.4620329508225,\n",
       " 429.989388672784,\n",
       " 425.84796440916165,\n",
       " 396.46279395360455,\n",
       " 384.9002544115362,\n",
       " 375.613968306461,\n",
       " 393.75142427845907]"
      ]
     },
     "execution_count": 102,
     "metadata": {},
     "output_type": "execute_result"
    }
   ],
   "source": [
    "list(i[0] for i in final_price_list[50])"
   ]
  },
  {
   "cell_type": "code",
   "execution_count": 107,
   "id": "2d3c8ad3",
   "metadata": {},
   "outputs": [
    {
     "data": {
      "text/plain": [
       "array([275.62645626])"
      ]
     },
     "execution_count": 107,
     "metadata": {},
     "output_type": "execute_result"
    }
   ],
   "source": [
    "price_list[-1]"
   ]
  },
  {
   "cell_type": "code",
   "execution_count": 106,
   "id": "16a30cb7",
   "metadata": {},
   "outputs": [
    {
     "data": {
      "text/plain": [
       "False"
      ]
     },
     "execution_count": 106,
     "metadata": {},
     "output_type": "execute_result"
    }
   ],
   "source": [
    "similar(price_list[-1], list(i[0] for i in final_price_list[100]), 0.01)"
   ]
  },
  {
   "cell_type": "code",
   "execution_count": null,
   "id": "8a735d1a",
   "metadata": {},
   "outputs": [],
   "source": [
    "print('X_train.shape = ',X_train.shape)\n",
    "print('y_train.shape = ', y_train.shape)\n",
    "print('X_test.shape = ', X_test.shape)\n",
    "print('y_test.shape = ',y_test.shape)"
   ]
  },
  {
   "cell_type": "code",
   "execution_count": null,
   "id": "3f39df7f",
   "metadata": {},
   "outputs": [],
   "source": [
    "# from sklearn.metrics import r2_score\n",
    "# import matplotlib.pyplot as plt\n",
    "# cnn_predictions = cnn_model.predict(X_test[:48])\n",
    "\n",
    "# cnn_score = r2_score(y_test[:48],cnn_predictions[:48])\n",
    "# print(\"R2 Score of CNN model = \", cnn_score)\n",
    "\n",
    "# plot_predictions_with_CI('CNN', y_test[:48]*max_price, cnn_predictions[:48]*max_price, \"Predictions with CI made by simple CNN model for 1 DAY\")"
   ]
  },
  {
   "cell_type": "code",
   "execution_count": null,
   "id": "28de6bff",
   "metadata": {},
   "outputs": [],
   "source": [
    "from sklearn.metrics import r2_score\n",
    "import matplotlib.pyplot as plt\n",
    "cnn_predictions = cnn_model.predict(X_test[:(48*30)])\n",
    "\n",
    "cnn_score = r2_score(y_test[:(48*30)],cnn_predictions[:(48*30)])\n",
    "print(\"R2 Score of CNN model = \", cnn_score)\n",
    "\n",
    "\n",
    "# type(cnn_predictions)\n",
    "# plot_predictions_with_CI('CNN', y_test[:(48*30)]*max_price, cnn_predictions[:(48*30)]*max_price, \"Predictions with CI made by simple CNN model for 1 MONTH\")\n",
    "\n",
    "\n",
    "# cnn_predictions = pd.DataFrame(cnn_predictions, columns = ['Price'])\n",
    "# smooth_bootstrap_CI(y_test[:(48*30)]*max_price, cnn_predictions[:(48*30)]*max_price, \"Predictions with CI made by simple CNN model for 1 MONTH\")"
   ]
  },
  {
   "cell_type": "code",
   "execution_count": null,
   "id": "8ca5c48c",
   "metadata": {},
   "outputs": [],
   "source": [
    "cnn_predictions.flatten()"
   ]
  },
  {
   "cell_type": "code",
   "execution_count": null,
   "id": "a36a91fe",
   "metadata": {},
   "outputs": [],
   "source": [
    "X_test[:(48*30)].flatten()"
   ]
  },
  {
   "cell_type": "code",
   "execution_count": null,
   "id": "f9bd35d2",
   "metadata": {},
   "outputs": [],
   "source": [
    "# cnn_predictions.flatten() - X_test[:(48*30)].flatten()"
   ]
  },
  {
   "cell_type": "code",
   "execution_count": null,
   "id": "77209350",
   "metadata": {},
   "outputs": [],
   "source": [
    "\n",
    "X_test_list = []\n",
    "for i in range(len(X_test[:(48*30)])):\n",
    "    X_test_list.append(X_test[i][0][0])\n",
    "    \n",
    "\n"
   ]
  },
  {
   "cell_type": "code",
   "execution_count": null,
   "id": "4fe955b5",
   "metadata": {},
   "outputs": [],
   "source": [
    "# X_test_list[0][0]"
   ]
  },
  {
   "cell_type": "code",
   "execution_count": null,
   "id": "d1902377",
   "metadata": {},
   "outputs": [],
   "source": [
    "len(list(cnn_predictions.flatten()))"
   ]
  },
  {
   "cell_type": "code",
   "execution_count": null,
   "id": "7ff98909",
   "metadata": {},
   "outputs": [],
   "source": [
    "test_predictions_df1 = pd.DataFrame({'X_test':list(X_test_list), \n",
    "                                    'LSTM Prediction':list(cnn_predictions.flatten())})"
   ]
  },
  {
   "cell_type": "code",
   "execution_count": null,
   "id": "a6286ca7",
   "metadata": {},
   "outputs": [],
   "source": [
    "resid_list = [max_price * (X_test_list[i]-cnn_predictions[:(48*30)].flatten()[i]) for i in range(len(X_test_list)) ]"
   ]
  },
  {
   "cell_type": "code",
   "execution_count": null,
   "id": "fcdc722c",
   "metadata": {},
   "outputs": [],
   "source": [
    "resid_frame = pd.DataFrame({'resid':  resid_list})"
   ]
  },
  {
   "cell_type": "code",
   "execution_count": null,
   "metadata": {},
   "outputs": [],
   "source": [
    "# X_test = pd.DataFrame(X_test[:(48*30)].flatten(), columns = ['Price'])\n",
    "# type(cnn_predictions)"
   ]
  },
  {
   "cell_type": "code",
   "execution_count": null,
   "id": "26c62091",
   "metadata": {},
   "outputs": [],
   "source": [
    "px.line(resid_frame)\n",
    "\n",
    "# fig = px.line()\n",
    "fig = px.line(resid_frame)\n",
    "fig.update_layout(\n",
    "    title='CNN Residual Error for one Month',\n",
    "    xaxis_title='Time',\n",
    "    yaxis_title='Price Values',\n",
    "    showlegend=True\n",
    ")"
   ]
  },
  {
   "cell_type": "code",
   "execution_count": null,
   "id": "61514137",
   "metadata": {},
   "outputs": [],
   "source": [
    "resid_list_day = [max_price * (X_test_list[i]-cnn_predictions[:48].flatten()[i]) for i in range(48) ]"
   ]
  },
  {
   "cell_type": "code",
   "execution_count": null,
   "id": "fc484f5e",
   "metadata": {},
   "outputs": [],
   "source": [
    "# px.line(resid_frame)\n",
    "\n",
    "# fig = px.line()\n",
    "fig = px.line(resid_list_day)\n",
    "fig.update_layout(\n",
    "    title='CNN Residual Errors for one DAY',\n",
    "    xaxis_title='Time',\n",
    "    yaxis_title='Price Values',\n",
    "    showlegend=True\n",
    ")"
   ]
  },
  {
   "cell_type": "code",
   "execution_count": null,
   "id": "8e9a3020",
   "metadata": {},
   "outputs": [],
   "source": [
    "import plotly.express as px\n",
    "\n",
    "fig = px.histogram(resid_frame, x=\"resid\", marginal=\"rug\", hover_data=resid_frame.columns) #marginal=\"rug\", hover_data=resid_frame.columns\n",
    "fig.set_title('CNN erros residuals')\n",
    "fig.show()"
   ]
  },
  {
   "cell_type": "code",
   "execution_count": null,
   "id": "809d97d3",
   "metadata": {},
   "outputs": [],
   "source": [
    "from sklearn.metrics import mean_absolute_error as mae\n",
    "from sklearn.metrics import r2_score\n",
    "import matplotlib.pyplot as plt\n",
    "cnn_predictions = cnn_model.predict(X_test[:(48*30)])\n",
    "cnn_mae_list = []\n",
    "\n",
    "\n",
    "for i in range(len(y_test[:(48*30)])):        \n",
    "    cnn_mae_list.append(max_price * abs((y_test[i] -cnn_predictions[i])) )\n",
    "    "
   ]
  },
  {
   "cell_type": "code",
   "execution_count": null,
   "id": "9ba535b2",
   "metadata": {},
   "outputs": [],
   "source": [
    "# cnn_mae_list"
   ]
  },
  {
   "cell_type": "code",
   "execution_count": null,
   "id": "d50b136e",
   "metadata": {},
   "outputs": [],
   "source": [
    "resid_frame = pd.DataFrame({'resid':  cnn_mae_list})\n",
    "resid_frame.head(5)"
   ]
  },
  {
   "cell_type": "code",
   "execution_count": null,
   "id": "d3c7252c",
   "metadata": {},
   "outputs": [],
   "source": [
    "# import plotly.express as px\n",
    "# df = px.data.tips()\n",
    "# fig = px.histogram(resid_frame,  hover_data=resid_frame.columns) #marginal=\"rug\",\n",
    "# fig.show()"
   ]
  },
  {
   "cell_type": "code",
   "execution_count": null,
   "id": "d5e67f87",
   "metadata": {},
   "outputs": [],
   "source": [
    "\n",
    "from tsmoothie.smoother import *\n",
    "from tsmoothie.bootstrap import BootstrappingWrapper\n",
    "\n",
    "import plotly.graph_objects as go\n",
    "import plotly.express as px\n",
    "def smooth_bootstrap_CI(test_data, predictions_dataFrame, the_title=\"Predictions with CI made by simple CNN model\"):\n",
    "\n",
    "    ### SMOOTH PRED DATA ###\n",
    "\n",
    "    df_feats_sc = predictions_dataFrame\n",
    "\n",
    "    smoother = SpectralSmoother(smooth_fraction=0.18, pad_len=2)\n",
    "    smoother.smooth(df_feats_sc.T)\n",
    "\n",
    "\n",
    "    plt.figure(figsize=(16,12))\n",
    "\n",
    "    # for i,c in enumerate(cols):\n",
    "        \n",
    "        # plt.subplot(2,2,i+1)\n",
    "        \n",
    "    np.random.seed(33)\n",
    "    bts = BootstrappingWrapper(SpectralSmoother(smooth_fraction=0.18, \n",
    "                                                pad_len=2), \n",
    "\n",
    "                            bootstrap_type='mbb', \n",
    "\n",
    "                            block_length=6\n",
    "                            \n",
    "                            )\n",
    "    #smooth_fraction : float\n",
    "    \"\"\"Between 0 and 1. The smoothing strength. A lower value of\n",
    "    smooth_fraction will result in a smoother curve. It's the proportion\n",
    "    of frequencies used in the discrete Fourier Transform to smooth\n",
    "    the curve.\"\"\"\n",
    "    #pad_len : int\n",
    "    \"\"\"Greater than equal to 1. The length of the padding used at each\n",
    "    timeseries edge to center the series and obtain better smoothings.\"\"\"\n",
    "    #bootstrap_type : str\n",
    "    \"\"\"The type of algorithm used to compute the bootstrap.\n",
    "    Supported types are: none overlapping block bootstrap ('nbb'),\n",
    "    moving block bootstrap ('mbb'), circular block bootstrap ('cbb'),\n",
    "    stationary bootstrap ('sb').\"\"\"\n",
    "    #block_length : int\n",
    "    \"\"\"The shape of the blocks used to sample from the residuals of the\n",
    "    smoothing operation and used to bootstrap new samples.\n",
    "    Must be an integer in [3, timesteps).\"\"\"\n",
    "\n",
    "\n",
    "    bts_samples = bts.sample(df_feats_sc, n_samples=100)\n",
    "\n",
    "    pd.Series(smoother.smooth_data[0], index=np.array(df_feats_sc.index)).plot() #(c='green')\n",
    "    \n",
    "    # plt.scatter(df_feats_sc.index, smoother.data, c='black', s=4, label='Pred price')\n",
    "    # # plt.plot(test_data, color='red', label='Actual price')\n",
    "    # plt.fill_between(df_feats_sc.index, bts_samples.min(0), bts_samples.max(0), alpha=0.3, color='blue', label='CI')\n",
    "    # plt.title(the_title)\n",
    "    # plt.legend()\n",
    "\n",
    "    fig = px.scatter()\n",
    "    fig.add_scatter(x=df_feats_sc.index, y=pd.Series(smoother.smooth_data[0], index=np.array(df_feats_sc.index)), mode='lines', name='Smoothed Pred Price', line_color='green')\n",
    "    fig.add_scatter(x=df_feats_sc.index, y=smoother.data, mode='markers', name='Pred price', marker_color='black', marker_size=4)\n",
    "    fig.add_trace(go.Scatter(x=df_feats_sc.index, y=bts_samples.min(0), mode='lines', fill=None, line_color='blue', name='CI'))\n",
    "    fig.add_trace(go.Scatter(x=df_feats_sc.index, y=bts_samples.max(0), mode='lines', fill='tonexty', line_color='blue', name='CI'))\n",
    "    \n",
    "    fig.update_layout(\n",
    "        title=the_title,\n",
    "        xaxis_title='Time',\n",
    "        yaxis_title='Price Values',\n",
    "        showlegend=True\n",
    "    )\n",
    "    \n",
    "    fig.show()\n",
    "\n",
    "\n",
    "\n",
    "\n",
    "\n"
   ]
  },
  {
   "cell_type": "code",
   "execution_count": null,
   "id": "17f79bfd",
   "metadata": {},
   "outputs": [],
   "source": [
    "cnn_predictions = pd.DataFrame(cnn_predictions, columns = ['Price'])\n",
    "type(cnn_predictions)"
   ]
  },
  {
   "cell_type": "code",
   "execution_count": null,
   "id": "18862ffb",
   "metadata": {},
   "outputs": [],
   "source": [
    "smooth_bootstrap_CI(y_test[:48]*max_price, cnn_predictions[:48]*max_price, \"Predictions with CI made by simple CNN model for 1 DAY\")"
   ]
  },
  {
   "cell_type": "code",
   "execution_count": null,
   "id": "19abbe2d",
   "metadata": {},
   "outputs": [],
   "source": [
    "type(cnn_predictions)\n",
    "cnn_predictions"
   ]
  },
  {
   "cell_type": "code",
   "execution_count": null,
   "id": "2aa850db",
   "metadata": {},
   "outputs": [],
   "source": [
    "cnn_predictions = cnn_model.predict(X_test)\n",
    "feats_sc = cnn_predictions.flatten()\n",
    "feats_sc"
   ]
  },
  {
   "cell_type": "code",
   "execution_count": null,
   "id": "46e2d16b",
   "metadata": {},
   "outputs": [],
   "source": [
    "X_test.flatten()"
   ]
  },
  {
   "attachments": {},
   "cell_type": "markdown",
   "id": "acf9ec38",
   "metadata": {},
   "source": []
  },
  {
   "cell_type": "code",
   "execution_count": null,
   "id": "dd318d8d",
   "metadata": {},
   "outputs": [],
   "source": [
    "# df_test = pd.DataFrame(times_series_df, columns = ['Prix_spot'])\n",
    "# df.set_index(\"First Name\", inplace = True)"
   ]
  },
  {
   "cell_type": "code",
   "execution_count": null,
   "id": "a438f304",
   "metadata": {},
   "outputs": [],
   "source": [
    "import numpy as np\n",
    "import pandas as pd\n",
    "\n",
    "my_array = cnn_predictions.flatten()\n",
    "\n",
    "# feats_sc = np.concatenate(cnn_predictions, axis=1)\n",
    "# df_predictions = pd.DataFrame(feats_sc, columns = ['Price'])\n",
    "# df_test = pd.DataFrame(y_test, columns = ['gdTruth'])\n",
    "\n",
    "dataset = pd.DataFrame({'Price': my_array, 'Test': y_test}, columns=['Price', 'Test']).set_index('Test')\n",
    "dataset"
   ]
  },
  {
   "cell_type": "code",
   "execution_count": null,
   "id": "40b943f2",
   "metadata": {},
   "outputs": [],
   "source": [
    "# dataset.Price"
   ]
  },
  {
   "cell_type": "code",
   "execution_count": null,
   "id": "def490ea",
   "metadata": {},
   "outputs": [],
   "source": [
    "df_feats_sc = pd.DataFrame(feats_sc, columns = ['Price'])\n",
    "type(df_feats_sc)"
   ]
  },
  {
   "cell_type": "code",
   "execution_count": null,
   "id": "0bb80999",
   "metadata": {},
   "outputs": [],
   "source": [
    "# np.array(df_feats_sc.index)"
   ]
  },
  {
   "cell_type": "code",
   "execution_count": null,
   "id": "a75df406",
   "metadata": {},
   "outputs": [],
   "source": [
    "#Import matplotlib and seaborn\n",
    "import matplotlib.pyplot as plt\n",
    "import seaborn as sns\n",
    "\n",
    "#Plotting Regplot with Seaborn\n",
    "plt.figure(figsize = (10,8))\n",
    "# sns.regplot(x=np.array(df_feats_sc.index), y=df_feats_sc, ci   = 99)\n",
    "\n",
    "sns.regplot(x=np.array(y_test), y=df_feats_sc, ci   = 95)\n",
    "plt.title('CNN Normalized Cross Plot', fontsize = 20)\n",
    "plt.xlabel('gdTruth')\n",
    "plt.ylabel('Predicted')\n",
    "# plt.title('Square Feet vs. Housing Price', fontsize = 20)\n",
    "plt.show()\n",
    "\n",
    "# import plotly.express as px\n",
    "\n",
    "# # Plotting Regplot with Plotly Express\n",
    "# fig = px.scatter(x=np.array(y_test), y=df_feats_sc, trendline=\"ols\")\n",
    "# fig.update_traces(marker=dict(size=6))\n",
    "# fig.update_layout(\n",
    "#     title='CNN Normalized Cross Plot',\n",
    "#     xaxis_title='gdTruth',\n",
    "#     yaxis_title='Predicted',\n",
    "#     showlegend=False\n",
    "# )\n",
    "# fig.show()"
   ]
  },
  {
   "cell_type": "code",
   "execution_count": null,
   "id": "fa1a28bd",
   "metadata": {},
   "outputs": [],
   "source": [
    "df_feats_sc*1000"
   ]
  },
  {
   "cell_type": "code",
   "execution_count": null,
   "id": "cb20ce4a",
   "metadata": {},
   "outputs": [],
   "source": [
    "from tsmoothie.smoother import *\n",
    "from tsmoothie.bootstrap import BootstrappingWrapper\n",
    "from tsmoothie.utils_func import create_windows, sim_seasonal_data, sim_randomwalk"
   ]
  },
  {
   "cell_type": "code",
   "execution_count": null,
   "id": "898cdb7d",
   "metadata": {},
   "outputs": [],
   "source": []
  },
  {
   "cell_type": "code",
   "execution_count": null,
   "id": "e11b08b7",
   "metadata": {},
   "outputs": [],
   "source": [
    "smoother"
   ]
  },
  {
   "cell_type": "code",
   "execution_count": null,
   "id": "8e734a69",
   "metadata": {},
   "outputs": [],
   "source": [
    "len(smoother.smooth_data[0])"
   ]
  },
  {
   "cell_type": "code",
   "execution_count": null,
   "id": "a2f2092f",
   "metadata": {},
   "outputs": [],
   "source": [
    "type(df_feats_sc)"
   ]
  },
  {
   "cell_type": "code",
   "execution_count": null,
   "id": "b2e666d7",
   "metadata": {},
   "outputs": [],
   "source": []
  },
  {
   "cell_type": "code",
   "execution_count": null,
   "id": "38282d7b",
   "metadata": {},
   "outputs": [],
   "source": [
    "smooth_bootstrap_CI(y_test, df_feats_sc, \"Predictions with CI made by simple CNN model for One YEAR\")"
   ]
  },
  {
   "cell_type": "code",
   "execution_count": null,
   "id": "cf667d43",
   "metadata": {},
   "outputs": [],
   "source": [
    "import numpy as np\n",
    "import pandas as pd\n",
    "\n",
    "my_array = cnn_predictions.flatten()\n",
    "\n",
    "# feats_sc = np.concatenate(cnn_predictions, axis=1)\n",
    "# df_predictions = pd.DataFrame(feats_sc, columns = ['Price'])\n",
    "# df_test = pd.DataFrame(y_test, columns = ['gdTruth'])\n",
    "\n",
    "dataset = pd.DataFrame({'Price': my_array, 'Test': y_test}, columns=['Price', 'Test']).set_index('Test').sort_index()\n",
    "dataset"
   ]
  },
  {
   "cell_type": "code",
   "execution_count": null,
   "id": "4dcbfc60",
   "metadata": {},
   "outputs": [],
   "source": [
    "dataset_full = pd.DataFrame({'Price': my_array}, columns=['Price']).sort_index()\n",
    "dataset_full"
   ]
  },
  {
   "cell_type": "code",
   "execution_count": null,
   "id": "048c08c5",
   "metadata": {},
   "outputs": [],
   "source": [
    "# import seaborn as sns\n",
    "# import matplotlib.pyplot as plt\n",
    "\n",
    "# sns.set_palette(sns.cubehelix_palette(8, light=.6))\n",
    "\n",
    "# # tips = sns.load_dataset('tips')\n",
    "# x = 'total_bill'\n",
    "# y = 'tip'\n",
    "# cis = [None, 67, 99]\n",
    "# titles = ['No CI', '67% CI', '99% CI']\n",
    "\n",
    "# fig, axes = plt.subplots(nrows=3, sharey=True, sharex=True, figsize=(7, 10))\n",
    "\n",
    "# for ci, title, ax in zip(cis, titles, axes):\n",
    "#     sns.regplot(x    = x,\n",
    "#                 y    = y,\n",
    "#                 data = df_feats_sc,\n",
    "#                 ax   = ax,\n",
    "#                 ci   = ci).set_title(title)\n",
    "\n",
    "# plt.tight_layout()\n",
    "# plt.show()"
   ]
  },
  {
   "cell_type": "code",
   "execution_count": null,
   "id": "0b3e63ac",
   "metadata": {},
   "outputs": [],
   "source": [
    "def futureForecast(df, col, n_input, n_features, forecast_timeperiod, model):\n",
    "\n",
    "    x_input = np.array(df[len(df)-n_input:][col])\n",
    "\n",
    "    temp_input=list(x_input)\n",
    "\n",
    "    lst_output=[]\n",
    "    i=0\n",
    "\n",
    "    while(i < forecast_timeperiod):\n",
    "\n",
    "        if(len(temp_input) > n_input):\n",
    "\n",
    "            x_input = np.array(temp_input[1:])\n",
    "            x_input = x_input.reshape((1, n_input, n_features))\n",
    "            yhat = model.predict(x_input, verbose=0)\n",
    "            temp_input.append(yhat[0][0])\n",
    "            temp_input = temp_input[1:]\n",
    "            lst_output.append(yhat[0][0])\n",
    "\n",
    "            i=i+1\n",
    "\n",
    "        else:\n",
    "            x_input = x_input.reshape((1, n_input, n_features))\n",
    "            yhat = model.predict(x_input, verbose=0)\n",
    "            #print(yhat[0])\n",
    "            temp_input.append(yhat[0][0])\n",
    "            lst_output.append(yhat[0][0])\n",
    "\n",
    "            i=i+1\n",
    "            \n",
    "    return lst_output"
   ]
  },
  {
   "cell_type": "code",
   "execution_count": null,
   "id": "3e4c6816",
   "metadata": {},
   "outputs": [],
   "source": [
    "# load dataset\n",
    "\n",
    "path = ''\n",
    "price_df = pd.read_csv(path + 'prices_extract.csv')\n",
    "times_series_df = price_df[['Date_full', 'Prix_spot']].set_index('Date_full')[:72742]\n",
    "times_series_df_for_prediction = price_df[['Date_full', 'Prix_spot']].set_index('Date_full')[:72742].div(max_price)\n",
    "real_µtimes_series_df = price_df[['Date_full', 'Prix_spot']].set_index('Date_full')[72742:72742+96]\n",
    "times_series_df.head()"
   ]
  },
  {
   "cell_type": "code",
   "execution_count": null,
   "id": "e76d6353",
   "metadata": {},
   "outputs": [],
   "source": [
    "real_µtimes_series_df"
   ]
  },
  {
   "cell_type": "code",
   "execution_count": null,
   "id": "061b554e",
   "metadata": {},
   "outputs": [],
   "source": [
    "type(float(max_price))"
   ]
  },
  {
   "cell_type": "code",
   "execution_count": null,
   "id": "211ed15a",
   "metadata": {},
   "outputs": [],
   "source": [
    "n_input = 48\n",
    "n_features = 1\n",
    "forecast_timeperiod = 48         # next 10 days\n",
    "model = cnn_model\n",
    "\n",
    "forecast_output = futureForecast(times_series_df_for_prediction, \n",
    "                                 'Prix_spot', \n",
    "                                 n_input, \n",
    "                                 n_features, \n",
    "                                 forecast_timeperiod, \n",
    "                                 model)\n",
    "# forecast_output *= float(max_price)"
   ]
  },
  {
   "cell_type": "code",
   "execution_count": null,
   "id": "a119994e",
   "metadata": {},
   "outputs": [],
   "source": [
    "forecast_output = [i * float(max_price) for i in forecast_output]"
   ]
  },
  {
   "cell_type": "code",
   "execution_count": null,
   "id": "f5f793bf",
   "metadata": {},
   "outputs": [],
   "source": [
    "last_10_days = times_series_df['Prix_spot'][len(times_series_df) - 48:].tolist()\n",
    "real_next_10_days = real_µtimes_series_df['Prix_spot'].tolist()\n",
    "next_10_days = pd.DataFrame(forecast_output, columns = ['FutureForecast'])"
   ]
  },
  {
   "cell_type": "code",
   "execution_count": null,
   "id": "5e57ecf1",
   "metadata": {},
   "outputs": [],
   "source": [
    "len(next_10_days)"
   ]
  },
  {
   "cell_type": "code",
   "execution_count": null,
   "id": "81d18bf4",
   "metadata": {},
   "outputs": [],
   "source": [
    "# plt.figure(figsize = (15,5))\n",
    "\n",
    "# hist_axis =  len(last_10_days)\n",
    "# forecast_axis =   hist_axis + len(next_10_days)\n",
    "\n",
    "# plt.plot(np.arange(0,hist_axis),last_10_days, color = 'blue')\n",
    "# plt.plot(np.arange(0,hist_axis+48),real_next_10_days, color = 'red')\n",
    "# plt.plot(np.arange(hist_axis,forecast_axis),next_10_days['FutureForecast'].tolist(), color = 'orange')\n",
    "\n",
    "# plt.title('CNN Forecast for Next 1 Day')\n",
    "# plt.xlabel('Hours')\n",
    "# plt.ylabel('Temperature')"
   ]
  },
  {
   "cell_type": "code",
   "execution_count": null,
   "id": "67c93028",
   "metadata": {},
   "outputs": [],
   "source": [
    "\n",
    "plt.title('CNN Normalized Cross Plot')\n",
    "plt.xlabel('gdTruth')\n",
    "plt.ylabel('Predicted')\n",
    "plt.scatter(y_test, cnn_predictions)\n",
    "bisect = np.linspace(0,1,len(y_test))\n",
    "plt.scatter(bisect, bisect)"
   ]
  },
  {
   "attachments": {},
   "cell_type": "markdown",
   "id": "b4c81888",
   "metadata": {},
   "source": [
    "# RNN"
   ]
  },
  {
   "attachments": {},
   "cell_type": "markdown",
   "id": "7cf0bab8",
   "metadata": {},
   "source": [
    "A recurrent model can learn to use a long history of inputs if it is relevant to the model's predictions. In this case, the model will save internal state for 24 hours before producing a single forecast for the next 30 minutes.\n",
    "\n",
    "The RNN only has to produce an output at the final time step in this single-shot configuration.\n",
    "\n",
    "![The RNN builds up state across the input window and makes a single prediction for the following 30 minutes.](images/lstm.png)\n"
   ]
  },
  {
   "cell_type": "code",
   "execution_count": null,
   "id": "d2243572",
   "metadata": {},
   "outputs": [],
   "source": [
    "rnn_model = Sequential()\n",
    "\n",
    "rnn_model.add(SimpleRNN(40,activation=\"tanh\",return_sequences=True, input_shape=(X_train.shape[1],1)))\n",
    "rnn_model.add(Dropout(0.15))\n",
    "\n",
    "rnn_model.add(SimpleRNN(40,activation=\"tanh\",return_sequences=True))\n",
    "rnn_model.add(Dropout(0.15))\n",
    "\n",
    "rnn_model.add(SimpleRNN(40,activation=\"tanh\",return_sequences=False))\n",
    "rnn_model.add(Dropout(0.15))\n",
    "\n",
    "rnn_model.add(Dense(1))\n",
    "\n",
    "rnn_model.summary()"
   ]
  },
  {
   "cell_type": "code",
   "execution_count": null,
   "id": "d4226c25",
   "metadata": {},
   "outputs": [],
   "source": [
    "rnn_model.compile(optimizer=\"adam\",loss=\"MSE\")\n",
    "rnn_model.fit(X_train, y_train, epochs=100, batch_size=1460)\n",
    "\n",
    "rnn_model.history.history\n",
    "print(rnn_model.history.history.keys())"
   ]
  },
  {
   "cell_type": "code",
   "execution_count": null,
   "id": "a272d2c2",
   "metadata": {},
   "outputs": [],
   "source": [
    "rnn_predictions = rnn_model.predict(X_test)\n",
    "\n",
    "rnn_score = r2_score(y_test,rnn_predictions)\n",
    "print(\"R2 Score of RNN model = \",rnn_score)"
   ]
  },
  {
   "cell_type": "code",
   "execution_count": null,
   "id": "fd7fc2bf",
   "metadata": {},
   "outputs": [],
   "source": [
    "plot_predictions('RNN', y_test, rnn_predictions, \"Predictions made by simple RNN model\")"
   ]
  },
  {
   "cell_type": "code",
   "execution_count": null,
   "id": "997843a2",
   "metadata": {},
   "outputs": [],
   "source": [
    "plot_predictions_with_CI('RNN', y_test*max_price, rnn_predictions*max_price, \"Predictions with CI made by simple RNN model\")"
   ]
  },
  {
   "cell_type": "code",
   "execution_count": null,
   "id": "e075363d",
   "metadata": {},
   "outputs": [],
   "source": [
    "df_feats_sc = pd.DataFrame(rnn_predictions, columns = ['Price'])\n",
    "smooth_bootstrap_CI(rnn_predictions*max_price, \"Predictions with CI made by simple RNN model\")"
   ]
  },
  {
   "cell_type": "code",
   "execution_count": null,
   "id": "62384094",
   "metadata": {},
   "outputs": [],
   "source": [
    "rnn_predictions.max()"
   ]
  },
  {
   "cell_type": "code",
   "execution_count": null,
   "id": "16b85eb9",
   "metadata": {},
   "outputs": [],
   "source": [
    "\n",
    "plt.title('RNN Normalized Cross Plot')\n",
    "plt.xlabel('gdTruth')\n",
    "plt.ylabel('Predicted')\n",
    "plt.scatter(y_test, rnn_predictions)\n",
    "bisect = np.linspace(0,1,len(y_test))\n",
    "plt.scatter(bisect, bisect)"
   ]
  },
  {
   "attachments": {},
   "cell_type": "markdown",
   "id": "74a83df9",
   "metadata": {},
   "source": [
    "GRU"
   ]
  },
  {
   "attachments": {},
   "cell_type": "markdown",
   "id": "57375fed",
   "metadata": {},
   "source": [
    "A recurrent model can learn to use a long history of inputs if it is relevant to the model's predictions. In this case, the model will save internal state for 24 hours before producing a single forecast for the next 30 minutes.\n",
    "\n",
    "The GRU only has to produce an output at the final time step in this single-shot configuration.\n",
    "\n",
    "![The GRU builds up state across the input window and makes a single prediction for the following 30 minutes.](images/lstm.png)\n"
   ]
  },
  {
   "cell_type": "code",
   "execution_count": null,
   "id": "93952a73",
   "metadata": {},
   "outputs": [],
   "source": [
    "\n",
    "\n",
    "# Define input shape\n",
    "input_shape = (X_train.shape[1], 1)\n",
    "\n",
    "# Input layer\n",
    "inputs = Input(shape=input_shape)\n",
    "\n",
    "# First GRU layer\n",
    "gru = GRU(40, activation=\"tanh\", return_sequences=True)(inputs)\n",
    "dropout = Dropout(0.2)(gru)\n",
    "\n",
    "# Second GRU layer\n",
    "gru = GRU(40, activation=\"tanh\", return_sequences=True)(dropout)\n",
    "dropout = Dropout(0.2)(gru)\n",
    "\n",
    "# Third GRU layer\n",
    "gru = GRU(40, activation=\"tanh\", return_sequences=False)(dropout)\n",
    "dropout = Dropout(0.2)(gru)\n",
    "\n",
    "# Output layer\n",
    "output = Dense(1)(dropout)\n",
    "\n",
    "# Create the model\n",
    "gru_model = Model(inputs=inputs, outputs=output)\n",
    "\n",
    "# Print model summary\n",
    "gru_model.summary()\n",
    "\n",
    "# Compile the model\n",
    "optimizer = Adam(learning_rate=0.001)\n",
    "gru_model.compile(optimizer=optimizer, loss=\"mean_squared_error\")"
   ]
  },
  {
   "cell_type": "code",
   "execution_count": null,
   "id": "76e172d9",
   "metadata": {},
   "outputs": [],
   "source": [
    "gru_model.compile(optimizer='adam', loss='mean_squared_error')\n",
    "# gru_model.compile(optimizer=\"adam\",loss=\"MSE\")\n",
    "gru_model.fit(X_train, y_train, epochs=100, batch_size=1460)\n",
    "\n",
    "gru_model.history.history\n",
    "print(gru_model.history.history.keys())"
   ]
  },
  {
   "cell_type": "code",
   "execution_count": null,
   "id": "10577e2c",
   "metadata": {},
   "outputs": [],
   "source": [
    "gru_predictions = gru_model.predict(X_test)\n",
    "\n",
    "gru_score = r2_score(y_test, gru_predictions)\n",
    "print(\"R^2 Score of GRU model = \", gru_score)\n",
    "\n",
    "plot_predictions('GRU', y_test, gru_predictions, \"Predictions made by GRU model\")"
   ]
  },
  {
   "cell_type": "code",
   "execution_count": null,
   "id": "a798c26c",
   "metadata": {},
   "outputs": [],
   "source": [
    "plot_predictions_with_CI('GRU', y_test*max_price, gru_predictions*max_price, \"Predictions with CI made by GRU model\")"
   ]
  },
  {
   "cell_type": "code",
   "execution_count": null,
   "id": "a3b94325",
   "metadata": {},
   "outputs": [],
   "source": [
    "\n",
    "plt.title('GRU Normalized Cross Plot')\n",
    "plt.xlabel('gdTruth')\n",
    "plt.ylabel('Predicted')\n",
    "plt.scatter(y_test, gru_predictions)\n",
    "bisect = np.linspace(0,1,len(y_test))\n",
    "plt.scatter(bisect, bisect)"
   ]
  },
  {
   "attachments": {},
   "cell_type": "markdown",
   "id": "992765d4",
   "metadata": {},
   "source": [
    "# LSTM"
   ]
  },
  {
   "attachments": {},
   "cell_type": "markdown",
   "id": "da9527eb",
   "metadata": {},
   "source": [
    "A recurrent model can learn to use a long history of inputs if it is relevant to the model's predictions. In this case, the model will save internal state for 24 hours before producing a single forecast for the next 30 minutes.\n",
    "\n",
    "The LSTM only has to produce an output at the final time step in this single-shot configuration.\n",
    "\n",
    "![The LSTM builds up state across the input window and makes a single prediction for the following 30 minutes.](images/lstm.png)\n"
   ]
  },
  {
   "cell_type": "code",
   "execution_count": null,
   "id": "6be7f81b",
   "metadata": {},
   "outputs": [],
   "source": [
    "\n",
    "\n",
    "input_shape = (X_train.shape[1], 1)\n",
    "\n",
    "inputs = Input(shape=input_shape)\n",
    "\n",
    "x = LSTM(40, activation=\"tanh\", return_sequences=True)(inputs)\n",
    "x = Dropout(0.15)(x)\n",
    "x = LSTM(40, activation=\"tanh\", return_sequences=True)(x)\n",
    "x = Dropout(0.15)(x)\n",
    "x = LSTM(40, activation=\"tanh\", return_sequences=False)(x)\n",
    "x = Dropout(0.15)(x)\n",
    "\n",
    "outputs = Dense(1)(x)\n",
    "\n",
    "lstm_model = Model(inputs=inputs, outputs=outputs)\n",
    "lstm_model.summary()\n"
   ]
  },
  {
   "cell_type": "code",
   "execution_count": null,
   "id": "9b2c2c4a",
   "metadata": {},
   "outputs": [],
   "source": [
    "lstm_model.compile(optimizer=\"adam\",loss=\"MSE\")\n",
    "lstm_model.fit(X_train, y_train, epochs=100, batch_size=1460)\n",
    "\n",
    "lstm_model.history.history\n",
    "print(lstm_model.history.history.keys())"
   ]
  },
  {
   "cell_type": "code",
   "execution_count": null,
   "id": "0ad0c755",
   "metadata": {},
   "outputs": [],
   "source": [
    "lstm_predictions = lstm_model.predict(X_test)\n",
    "\n",
    "lstm_score = r2_score(y_test, lstm_predictions)\n",
    "print(\"R^2 Score of LSTM model = \",lstm_score)"
   ]
  },
  {
   "cell_type": "code",
   "execution_count": null,
   "id": "22007448",
   "metadata": {},
   "outputs": [],
   "source": [
    "plot_predictions('LSTM', y_test, lstm_predictions, \"Predictions made by LSTM model\")"
   ]
  },
  {
   "cell_type": "code",
   "execution_count": null,
   "id": "1468106a",
   "metadata": {},
   "outputs": [],
   "source": [
    "plot_predictions_with_CI('LSTM', y_test*max_price, lstm_predictions*max_price, \"Predictions with CI made by LSTM model\")"
   ]
  },
  {
   "cell_type": "code",
   "execution_count": null,
   "id": "c56e224e",
   "metadata": {},
   "outputs": [],
   "source": [
    "\n",
    "plt.title('LSTM Normalized Cross Plot')\n",
    "plt.xlabel('gdTruth')\n",
    "plt.ylabel('Predicted')\n",
    "plt.scatter(y_test, lstm_predictions)\n",
    "bisect = np.linspace(0,1,len(y_test))\n",
    "plt.scatter(bisect, bisect)"
   ]
  },
  {
   "cell_type": "code",
   "execution_count": null,
   "id": "9c65e599",
   "metadata": {},
   "outputs": [],
   "source": [
    "plt.figure(figsize=(15,8))\n",
    "\n",
    "plt.plot(y_test, c=\"orange\", linewidth=3, label=\"Original values\")\n",
    "plt.plot(lstm_predictions, c=\"red\", linewidth=3, label=\"LSTM predictions\")\n",
    "plt.plot(rnn_predictions, alpha=0.5, c=\"blue\", linewidth=3, label=\"RNN predictions\")\n",
    "plt.legend()\n",
    "plt.title(\"Predictions vs actual data\", fontsize=20)\n",
    "plt.show()"
   ]
  },
  {
   "attachments": {},
   "cell_type": "markdown",
   "id": "25bb19b7",
   "metadata": {},
   "source": [
    "# Bi-LSTM"
   ]
  },
  {
   "attachments": {},
   "cell_type": "markdown",
   "id": "615e2490",
   "metadata": {},
   "source": [
    "A recurrent model can learn to use a long history of inputs if it is relevant to the model's predictions. In this case, the model will save internal state for 24 hours before producing a single forecast for the next 30 minutes.\n",
    "\n",
    "Bidirectional LSTM model showing the input and output layers. The red arrows represent the backward sequence track and green the forward sequence track.\n",
    "\n",
    "The Bi-LSTM only has to produce an output at the final time step in this single-shot configuration.\n",
    "\n",
    "![The Bi-LSTM builds up state across the input window and makes a single prediction for the following 30 minutes.](images/BI-LSTM.png)\n"
   ]
  },
  {
   "cell_type": "code",
   "execution_count": null,
   "id": "e4dca097",
   "metadata": {},
   "outputs": [],
   "source": [
    "\n",
    "\n",
    "def create_bilstm_model(input_shape):\n",
    "    inputs = Input(shape=input_shape)\n",
    "\n",
    "    x = Bidirectional(LSTM(40, activation=\"tanh\", return_sequences=True))(inputs)\n",
    "    x = Dropout(0.15)(x)\n",
    "    x = Bidirectional(LSTM(40, activation=\"tanh\", return_sequences=True))(x)\n",
    "    x = Dropout(0.15)(x)\n",
    "    x = Bidirectional(LSTM(40, activation=\"tanh\", return_sequences=False))(x)\n",
    "    x = Dropout(0.15)(x)\n",
    "\n",
    "    outputs = Dense(1)(x)\n",
    "\n",
    "    bilstm_model = Model(inputs=inputs, outputs=outputs)\n",
    "    bilstm_model.summary()\n",
    "\n",
    "    return bilstm_model"
   ]
  },
  {
   "cell_type": "code",
   "execution_count": null,
   "id": "c9a69d8d",
   "metadata": {},
   "outputs": [],
   "source": [
    "input_shape = (X_train.shape[1], 1)\n",
    "bilstm_model = create_bilstm_model(input_shape)"
   ]
  },
  {
   "cell_type": "code",
   "execution_count": null,
   "id": "f531425d",
   "metadata": {},
   "outputs": [],
   "source": [
    "\n",
    "\n",
    "# Assuming you have a target variable y_train\n",
    "bilstm_model.compile(loss='mean_squared_error', optimizer=Adam(), metrics=['mae'])"
   ]
  },
  {
   "cell_type": "code",
   "execution_count": null,
   "id": "7bc72250",
   "metadata": {},
   "outputs": [],
   "source": [
    "bilstm_model.fit(X_train, y_train, epochs=100, batch_size=1460)\n",
    "\n",
    "bilstm_model.history.history\n",
    "print(bilstm_model.history.history.keys())"
   ]
  },
  {
   "cell_type": "code",
   "execution_count": null,
   "id": "4ef9a575",
   "metadata": {},
   "outputs": [],
   "source": [
    "bilstm_predictions = bilstm_model.predict(X_test)\n",
    "\n",
    "bilstm_score = r2_score(y_test, bilstm_predictions)\n",
    "print(\"R^2 Score of Bi-LSTM model = \", bilstm_score)\n",
    "\n"
   ]
  },
  {
   "cell_type": "code",
   "execution_count": null,
   "id": "efd3fac7",
   "metadata": {},
   "outputs": [],
   "source": [
    "plot_predictions('Bi-LSTM', y_test, bilstm_predictions, \"Predictions made by Bi-LSTM model\")"
   ]
  },
  {
   "cell_type": "code",
   "execution_count": null,
   "id": "fb80f331",
   "metadata": {},
   "outputs": [],
   "source": [
    "plot_predictions_with_CI('Bi-LSTM', y_test*max_price, bilstm_predictions*max_price, \"Predictions with CI made by Bi-LSTM model\")"
   ]
  },
  {
   "cell_type": "code",
   "execution_count": null,
   "id": "f0531d42",
   "metadata": {},
   "outputs": [],
   "source": [
    "\n",
    "plt.title('Bi-LSTM Normalized Cross Plot')\n",
    "plt.xlabel('gdTruth')\n",
    "plt.ylabel('Predicted')\n",
    "plt.scatter(y_test, bilstm_predictions)\n",
    "bisect = np.linspace(0,1,len(y_test))\n",
    "\n",
    "plt.scatter(bisect, bisect)"
   ]
  },
  {
   "attachments": {},
   "cell_type": "markdown",
   "id": "d923fb53",
   "metadata": {},
   "source": [
    "# CNN + LSTM"
   ]
  },
  {
   "cell_type": "code",
   "execution_count": null,
   "id": "ce3fa2b6",
   "metadata": {},
   "outputs": [],
   "source": [
    "\n",
    "\n",
    "# Define the model architecture\n",
    "model_cnn_lstm = keras.models.Sequential()\n",
    "model_cnn_lstm.add(keras.layers.Conv1D(filters=64, kernel_size=3, activation='relu', input_shape=(X_train.shape[1],1)))\n",
    "model_cnn_lstm.add(keras.layers.Conv1D(filters=64, kernel_size=3, activation='relu'))\n",
    "model_cnn_lstm.add(keras.layers.MaxPooling1D(pool_size=2))\n",
    "model_cnn_lstm.add(keras.layers.LSTM(64, return_sequences=True))\n",
    "model_cnn_lstm.add(Dropout(0.15))\n",
    "model_cnn_lstm.add(keras.layers.LSTM(64))\n",
    "model_cnn_lstm.add(Dropout(0.15))\n",
    "model_cnn_lstm.add(keras.layers.Dense(1))\n",
    "\n",
    "model_cnn_lstm.summary()\n",
    "\n"
   ]
  },
  {
   "cell_type": "code",
   "execution_count": null,
   "id": "7f954bc8",
   "metadata": {},
   "outputs": [],
   "source": [
    "# Compile the model\n",
    "model_cnn_lstm.compile(optimizer='adam', loss='mse')\n",
    "\n",
    "# Train the model\n",
    "model_cnn_lstm.fit(X_train, y_train, epochs=100, batch_size=1460)\n",
    "\n",
    "model_cnn_lstm.history.history\n",
    "print(model_cnn_lstm.history.history.keys())\n"
   ]
  },
  {
   "cell_type": "code",
   "execution_count": null,
   "id": "aa63642a",
   "metadata": {},
   "outputs": [],
   "source": [
    "cnn_lstm_predictions = model_cnn_lstm.predict(X_test)\n",
    "\n",
    "cnn_lstm_score = r2_score(y_test,cnn_lstm_predictions)\n",
    "print(\"R2 Score of CNN+LSTM model = \", cnn_lstm_score)\n",
    "\n",
    "\n",
    "plot_predictions('CNN+LSTM', y_test, cnn_lstm_predictions, \"Predictions made by simple CNN+LSTM model\")\n"
   ]
  },
  {
   "cell_type": "code",
   "execution_count": null,
   "id": "85a4e4c3",
   "metadata": {},
   "outputs": [],
   "source": [
    "plot_predictions_with_CI('CNN+LSTM', y_test*max_price, cnn_lstm_predictions*max_price, \"Predictions with CI made by CNN+LSTM model\")"
   ]
  },
  {
   "cell_type": "code",
   "execution_count": null,
   "id": "f8b03630",
   "metadata": {},
   "outputs": [],
   "source": [
    "bisect = np.linspace(0,1,len(y_test))"
   ]
  },
  {
   "cell_type": "code",
   "execution_count": null,
   "id": "767e3d4b",
   "metadata": {},
   "outputs": [],
   "source": [
    "\n",
    "plt.title('CNN+LSTM Normalized Cross Plot')\n",
    "plt.xlabel('gdTruth')\n",
    "plt.ylabel('Predicted')\n",
    "plt.scatter(y_test, cnn_lstm_predictions)\n",
    "plt.scatter(bisect, bisect)\n"
   ]
  },
  {
   "cell_type": "code",
   "execution_count": null,
   "id": "9b0ad7df",
   "metadata": {},
   "outputs": [],
   "source": []
  },
  {
   "cell_type": "code",
   "execution_count": null,
   "id": "abada523",
   "metadata": {},
   "outputs": [],
   "source": []
  },
  {
   "cell_type": "code",
   "execution_count": null,
   "id": "f4d9f3ef",
   "metadata": {},
   "outputs": [],
   "source": [
    "#some confidence interval\n",
    "y=cnn_lstm_predictions\n",
    "x=y_test\n",
    "# ci = 1.96 * np.std(y)/np.sqrt(len(x))\n",
    "\n",
    "# fig, ax = plt.subplots()\n",
    "# ax.plot(x,y)\n",
    "# ax.fill_between(x, (y-ci), (y+ci), color='b', alpha=.1)"
   ]
  },
  {
   "cell_type": "code",
   "execution_count": null,
   "id": "3d5bae06",
   "metadata": {},
   "outputs": [],
   "source": [
    "RMSFE = np.sqrt(sum([x**2 for x in residuals]) / len(residuals))\n",
    "band_size = 1.96*RMSFE\n",
    "\n",
    "fig, ax = plt.subplots(figsize=(15,7))\n",
    "ax.plot(valid.index, valid['temp'], color='#fc7d0b', label='Valid')\n",
    "ax.scatter(valid.index, sarima_preds)\n",
    "ax.fill_between(valid.index, (valid['temp']-band_size), (valid['temp']+band_size), color='b', alpha=.1)\n",
    "ax.set_title(\"Predictions w/ 95% Confidence\")\n",
    "ax.set_xlabel('Date')\n",
    "ax.set_ylabel('Temp - Celsius')\n",
    "plt.show()"
   ]
  },
  {
   "attachments": {},
   "cell_type": "markdown",
   "id": "ccebd0b3",
   "metadata": {},
   "source": [
    "# Models Saving "
   ]
  },
  {
   "cell_type": "code",
   "execution_count": null,
   "id": "24b24cf5",
   "metadata": {},
   "outputs": [],
   "source": [
    "# gru_model.save(f\"./logs/model_gru_r2={round(gru_score,4)}.h5\")\n",
    "# cnn_model.save_weights(f\"./logs/model_cnn_r2={round(cnn_score,4)}.h5\")\n",
    "\n",
    "# lstm_model.save_weights(f\"./logs/model_lstm_r2={round(lstm_score,4)}.h5\")\n",
    "# bilstm_model.save_weights(f\"./logs/model_bi_lstm_r2={round(bilstm_score,4)}.h5\")\n",
    "\n",
    "\n",
    "# model_cnn_lstm.save_weights(f\"./logs/model_cnn_lstm_r2={round(cnn_lstm_score,4)}.h5\")\n",
    "# rnn_model.save_weights(f\"./logs/model_rnn_r2={round(rnn_score,4)}.h5\")"
   ]
  },
  {
   "cell_type": "code",
   "execution_count": null,
   "id": "f50ed6c5",
   "metadata": {},
   "outputs": [],
   "source": [
    "# !dir"
   ]
  },
  {
   "cell_type": "code",
   "execution_count": null,
   "id": "e907cfc6",
   "metadata": {},
   "outputs": [],
   "source": [
    "# from keras.models import load_model\n",
    "\n",
    "# ori_path = 'C:/Users/benammaa/MyProjects/Time_series_Prix_electricite/'\n",
    "# gru_model = load_model(ori_path + 'logs/model_gru_r2=0.9456.h5')\n",
    "# cnn_model = load_model(ori_path + 'logs/model_cnn_r2=0.9436.h5')\n",
    "\n",
    "# lstm_model = load_model(ori_path + 'logs/model_lstm_r2=0.9452.h5')\n",
    "# bilstm_model = load_model(ori_path + 'logs/model_bi_lstm_r2=0.9459.h5')\n",
    "\n",
    "# model_cnn_lstm = load_model(ori_path + 'logs/model_cnn_lstm_r2=0.9469.h5')\n",
    "# rnn_model = load_model(ori_path + 'logs/model_rnn_r2=0.941.h5')"
   ]
  },
  {
   "cell_type": "code",
   "execution_count": null,
   "id": "bfa40df9",
   "metadata": {},
   "outputs": [],
   "source": [
    "# from keras.models import load_model\n",
    "\n",
    "# ori_path = 'C:/Users/benammaa/MyProjects/Time_series_Prix_electricite/'\n",
    "# # cnn_model = load_model()\n",
    "\n",
    "# import tensorflow as tf\n",
    "# from tensorflow import keras\n",
    "# #...\n",
    "# myModel = tf.keras.models.load_model(ori_path + 'logs/model_cnn_r2=0.9436.h5')"
   ]
  },
  {
   "cell_type": "code",
   "execution_count": null,
   "id": "0df89bb2",
   "metadata": {},
   "outputs": [],
   "source": []
  }
 ],
 "metadata": {
  "kernelspec": {
   "display_name": "Python 3 (ipykernel)",
   "language": "python",
   "name": "python3"
  },
  "language_info": {
   "codemirror_mode": {
    "name": "ipython",
    "version": 3
   },
   "file_extension": ".py",
   "mimetype": "text/x-python",
   "name": "python",
   "nbconvert_exporter": "python",
   "pygments_lexer": "ipython3",
   "version": "3.10.9"
  }
 },
 "nbformat": 4,
 "nbformat_minor": 5
}
